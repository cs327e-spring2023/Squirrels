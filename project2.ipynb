{
 "cells": [
  {
   "cell_type": "code",
   "execution_count": 1,
   "id": "d57d6466-c5bb-48cd-aeb1-469e841df38f",
   "metadata": {},
   "outputs": [],
   "source": [
    "# !psql --help"
   ]
  },
  {
   "cell_type": "code",
   "execution_count": 2,
   "id": "34ae082d-0e4d-418f-b31c-ab31f2f470f8",
   "metadata": {},
   "outputs": [
    {
     "name": "stdout",
     "output_type": "stream",
     "text": [
      "env: PGINSTANCE=pg\n"
     ]
    }
   ],
   "source": [
    "%env PGINSTANCE=pg"
   ]
  },
  {
   "cell_type": "code",
   "execution_count": 3,
   "id": "18d7a784-6af8-4ad7-bd94-8fb60678d554",
   "metadata": {},
   "outputs": [
    {
     "name": "stdout",
     "output_type": "stream",
     "text": [
      "env: BASE_DIR=/home/jupyter/pagila\n"
     ]
    }
   ],
   "source": [
    "%env BASE_DIR=/home/jupyter/pagila"
   ]
  },
  {
   "cell_type": "markdown",
   "id": "d86a50e0-f0d7-45d0-bdfc-755042ec446c",
   "metadata": {},
   "source": [
    "Create the pagila schema and objects by running pagila-schema.sql."
   ]
  },
  {
   "cell_type": "code",
   "execution_count": 4,
   "id": "00baf534-9c28-4ad4-9e56-ee9af3335d01",
   "metadata": {},
   "outputs": [
    {
     "name": "stdout",
     "output_type": "stream",
     "text": [
      "psql:/home/jupyter/pagila/pagila-schema.sql:8: NOTICE:  drop cascades to 47 other objects\n",
      "DETAIL:  drop cascades to type pagila.mpaa_rating\n",
      "drop cascades to type pagila.year\n",
      "drop cascades to function pagila._group_concat(text,text)\n",
      "drop cascades to function pagila.film_in_stock(integer,integer)\n",
      "drop cascades to function pagila.film_not_in_stock(integer,integer)\n",
      "drop cascades to function pagila.get_customer_balance(integer,timestamp with time zone)\n",
      "drop cascades to function pagila.inventory_held_by_customer(integer)\n",
      "drop cascades to function pagila.inventory_in_stock(integer)\n",
      "drop cascades to function pagila.last_day(timestamp with time zone)\n",
      "drop cascades to function pagila.last_updated()\n",
      "drop cascades to sequence pagila.customer_customer_id_seq\n",
      "drop cascades to table pagila.customer\n",
      "drop cascades to function pagila.rewards_report(integer,numeric)\n",
      "drop cascades to function pagila.group_concat(text)\n",
      "drop cascades to sequence pagila.actor_actor_id_seq\n",
      "drop cascades to table pagila.actor\n",
      "drop cascades to sequence pagila.category_category_id_seq\n",
      "drop cascades to table pagila.category\n",
      "drop cascades to sequence pagila.film_film_id_seq\n",
      "drop cascades to table pagila.film\n",
      "drop cascades to table pagila.film_actor\n",
      "drop cascades to table pagila.film_category\n",
      "drop cascades to view pagila.actor_info\n",
      "drop cascades to sequence pagila.address_address_id_seq\n",
      "drop cascades to table pagila.address\n",
      "drop cascades to sequence pagila.city_city_id_seq\n",
      "drop cascades to table pagila.city\n",
      "drop cascades to sequence pagila.country_country_id_seq\n",
      "drop cascades to table pagila.country\n",
      "drop cascades to view pagila.customer_list\n",
      "drop cascades to view pagila.film_list\n",
      "drop cascades to sequence pagila.inventory_inventory_id_seq\n",
      "drop cascades to table pagila.inventory\n",
      "drop cascades to sequence pagila.language_language_id_seq\n",
      "drop cascades to table pagila.language\n",
      "drop cascades to view pagila.nicer_but_slower_film_list\n",
      "drop cascades to sequence pagila.payment_payment_id_seq\n",
      "drop cascades to table pagila.payment\n",
      "drop cascades to sequence pagila.rental_rental_id_seq\n",
      "drop cascades to table pagila.rental\n",
      "drop cascades to view pagila.sales_by_film_category\n",
      "drop cascades to sequence pagila.staff_staff_id_seq\n",
      "drop cascades to table pagila.staff\n",
      "drop cascades to sequence pagila.store_store_id_seq\n",
      "drop cascades to table pagila.store\n",
      "drop cascades to view pagila.sales_by_store\n",
      "drop cascades to view pagila.staff_list\n"
     ]
    }
   ],
   "source": [
    "!psql -c \"\\i $BASE_DIR/pagila-schema.sql\" --quiet"
   ]
  },
  {
   "cell_type": "markdown",
   "id": "8971b440-89a5-415a-8fe5-b573ab3a3bec",
   "metadata": {},
   "source": [
    " Populate the pagila tables by running pagila-insert-data.sql. "
   ]
  },
  {
   "cell_type": "code",
   "execution_count": 5,
   "id": "20818e2b-8b66-4e39-9e8d-2f8d9ae47c2f",
   "metadata": {},
   "outputs": [
    {
     "name": "stdout",
     "output_type": "stream",
     "text": [
      " setval \n",
      "--------\n",
      "    200\n",
      "(1 row)\n",
      "\n",
      " setval \n",
      "--------\n",
      "    605\n",
      "(1 row)\n",
      "\n",
      " setval \n",
      "--------\n",
      "     16\n",
      "(1 row)\n",
      "\n",
      " setval \n",
      "--------\n",
      "    600\n",
      "(1 row)\n",
      "\n",
      " setval \n",
      "--------\n",
      "    109\n",
      "(1 row)\n",
      "\n",
      " setval \n",
      "--------\n",
      "    599\n",
      "(1 row)\n",
      "\n",
      " setval \n",
      "--------\n",
      "   1000\n",
      "(1 row)\n",
      "\n",
      " setval \n",
      "--------\n",
      "   4581\n",
      "(1 row)\n",
      "\n",
      " setval \n",
      "--------\n",
      "      6\n",
      "(1 row)\n",
      "\n",
      " setval \n",
      "--------\n",
      "  32098\n",
      "(1 row)\n",
      "\n",
      " setval \n",
      "--------\n",
      "  16049\n",
      "(1 row)\n",
      "\n",
      " setval \n",
      "--------\n",
      "      2\n",
      "(1 row)\n",
      "\n",
      " setval \n",
      "--------\n",
      "      2\n",
      "(1 row)\n",
      "\n"
     ]
    }
   ],
   "source": [
    "!psql -c \"\\i $BASE_DIR/pagila-insert-data.sql\" --quiet"
   ]
  },
  {
   "cell_type": "markdown",
   "id": "2ac4aaf7-081d-4d3a-952f-66da0c532604",
   "metadata": {},
   "source": [
    "Describe each table by running \"\\d {table_name}\" in psql. "
   ]
  },
  {
   "cell_type": "code",
   "execution_count": 6,
   "id": "62a6483a-f6a7-44a1-bce2-824acc1ae173",
   "metadata": {},
   "outputs": [
    {
     "name": "stdout",
     "output_type": "stream",
     "text": [
      "                                                Table \"pagila.customer\"\n",
      "   Column    |           Type           | Collation | Nullable |                        Default                        \n",
      "-------------+--------------------------+-----------+----------+-------------------------------------------------------\n",
      " customer_id | integer                  |           | not null | nextval('pagila.customer_customer_id_seq1'::regclass)\n",
      " store_id    | smallint                 |           | not null | \n",
      " first_name  | text                     |           | not null | \n",
      " last_name   | text                     |           | not null | \n",
      " email       | text                     |           |          | \n",
      " address_id  | smallint                 |           | not null | \n",
      " activebool  | boolean                  |           | not null | true\n",
      " create_date | date                     |           | not null | 'now'::text::date\n",
      " last_update | timestamp with time zone |           |          | now()\n",
      " active      | integer                  |           |          | \n",
      "Indexes:\n",
      "    \"customer_pkey\" PRIMARY KEY, btree (customer_id)\n",
      "    \"idx_fk_address_id\" btree (address_id)\n",
      "    \"idx_fk_store_id\" btree (store_id)\n",
      "    \"idx_last_name\" btree (last_name)\n",
      "Foreign-key constraints:\n",
      "    \"customer_address_id_fkey\" FOREIGN KEY (address_id) REFERENCES pagila.address(address_id) ON UPDATE CASCADE ON DELETE RESTRICT\n",
      "    \"customer_store_id_fkey\" FOREIGN KEY (store_id) REFERENCES pagila.store(store_id) ON UPDATE CASCADE ON DELETE RESTRICT\n",
      "Referenced by:\n",
      "    TABLE \"pagila.payment\" CONSTRAINT \"customer_id_fkey\" FOREIGN KEY (customer_id) REFERENCES pagila.customer(customer_id) ON UPDATE CASCADE ON DELETE RESTRICT\n",
      "    TABLE \"pagila.rental\" CONSTRAINT \"rental_customer_id_fkey\" FOREIGN KEY (customer_id) REFERENCES pagila.customer(customer_id) ON UPDATE CASCADE ON DELETE RESTRICT\n",
      "Triggers:\n",
      "    last_updated BEFORE UPDATE ON pagila.customer FOR EACH ROW EXECUTE FUNCTION pagila.last_updated()\n",
      "\n"
     ]
    }
   ],
   "source": [
    "!psql -c \"\\d pagila.customer\""
   ]
  },
  {
   "cell_type": "code",
   "execution_count": 7,
   "id": "aadcb79a-6db5-4698-b1dc-5aec013aeea1",
   "metadata": {},
   "outputs": [
    {
     "name": "stdout",
     "output_type": "stream",
     "text": [
      "                                              Table \"pagila.actor\"\n",
      "   Column    |           Type           | Collation | Nullable |                    Default                     \n",
      "-------------+--------------------------+-----------+----------+------------------------------------------------\n",
      " actor_id    | integer                  |           | not null | nextval('pagila.actor_actor_id_seq'::regclass)\n",
      " first_name  | text                     |           | not null | \n",
      " last_name   | text                     |           | not null | \n",
      " last_update | timestamp with time zone |           | not null | now()\n",
      "Indexes:\n",
      "    \"actor_pkey\" PRIMARY KEY, btree (actor_id)\n",
      "    \"idx_actor_last_name\" btree (last_name)\n",
      "Referenced by:\n",
      "    TABLE \"pagila.film_actor\" CONSTRAINT \"film_actor_actor_id_fkey\" FOREIGN KEY (actor_id) REFERENCES pagila.actor(actor_id) ON UPDATE CASCADE ON DELETE RESTRICT\n",
      "Triggers:\n",
      "    last_updated BEFORE UPDATE ON pagila.actor FOR EACH ROW EXECUTE FUNCTION pagila.last_updated()\n",
      "\n"
     ]
    }
   ],
   "source": [
    "!psql -c \"\\d pagila.actor\""
   ]
  },
  {
   "cell_type": "code",
   "execution_count": 8,
   "id": "56eac93b-3de3-4067-845c-278c6c732f94",
   "metadata": {},
   "outputs": [
    {
     "name": "stdout",
     "output_type": "stream",
     "text": [
      "                                               Table \"pagila.category\"\n",
      "   Column    |           Type           | Collation | Nullable |                       Default                        \n",
      "-------------+--------------------------+-----------+----------+------------------------------------------------------\n",
      " category_id | integer                  |           | not null | nextval('pagila.category_category_id_seq'::regclass)\n",
      " name        | text                     |           | not null | \n",
      " last_update | timestamp with time zone |           | not null | now()\n",
      "Indexes:\n",
      "    \"category_pkey\" PRIMARY KEY, btree (category_id)\n",
      "Referenced by:\n",
      "    TABLE \"pagila.film_category\" CONSTRAINT \"film_category_category_id_fkey\" FOREIGN KEY (category_id) REFERENCES pagila.category(category_id) ON UPDATE CASCADE ON DELETE RESTRICT\n",
      "Triggers:\n",
      "    last_updated BEFORE UPDATE ON pagila.category FOR EACH ROW EXECUTE FUNCTION pagila.last_updated()\n",
      "\n"
     ]
    }
   ],
   "source": [
    "!psql -c \"\\d pagila.category\""
   ]
  },
  {
   "cell_type": "code",
   "execution_count": 9,
   "id": "26db20c2-bab5-4fb6-b6e9-9882404ab86d",
   "metadata": {},
   "outputs": [
    {
     "name": "stdout",
     "output_type": "stream",
     "text": [
      "                                                  Table \"pagila.film\"\n",
      "        Column        |           Type           | Collation | Nullable |                   Default                    \n",
      "----------------------+--------------------------+-----------+----------+----------------------------------------------\n",
      " film_id              | integer                  |           | not null | nextval('pagila.film_film_id_seq'::regclass)\n",
      " title                | text                     |           | not null | \n",
      " description          | text                     |           |          | \n",
      " release_year         | pagila.year              |           |          | \n",
      " language_id          | smallint                 |           | not null | \n",
      " original_language_id | smallint                 |           |          | \n",
      " rental_duration      | smallint                 |           | not null | 3\n",
      " rental_rate          | numeric(4,2)             |           | not null | 4.99\n",
      " length               | smallint                 |           |          | \n",
      " replacement_cost     | numeric(5,2)             |           | not null | 19.99\n",
      " rating               | pagila.mpaa_rating       |           |          | 'G'::pagila.mpaa_rating\n",
      " last_update          | timestamp with time zone |           | not null | now()\n",
      " special_features     | text[]                   |           |          | \n",
      " fulltext             | tsvector                 |           | not null | \n",
      "Indexes:\n",
      "    \"film_pkey\" PRIMARY KEY, btree (film_id)\n",
      "    \"film_fulltext_idx\" gist (fulltext)\n",
      "    \"idx_fk_language_id\" btree (language_id)\n",
      "    \"idx_fk_original_language_id\" btree (original_language_id)\n",
      "    \"idx_title\" btree (title)\n",
      "Foreign-key constraints:\n",
      "    \"film_language_id_fkey\" FOREIGN KEY (language_id) REFERENCES pagila.language(language_id) ON UPDATE CASCADE ON DELETE RESTRICT\n",
      "    \"film_original_language_id_fkey\" FOREIGN KEY (original_language_id) REFERENCES pagila.language(language_id) ON UPDATE CASCADE ON DELETE RESTRICT\n",
      "Referenced by:\n",
      "    TABLE \"pagila.film_actor\" CONSTRAINT \"film_actor_film_id_fkey\" FOREIGN KEY (film_id) REFERENCES pagila.film(film_id) ON UPDATE CASCADE ON DELETE RESTRICT\n",
      "    TABLE \"pagila.film_category\" CONSTRAINT \"film_category_film_id_fkey\" FOREIGN KEY (film_id) REFERENCES pagila.film(film_id) ON UPDATE CASCADE ON DELETE RESTRICT\n",
      "    TABLE \"pagila.inventory\" CONSTRAINT \"inventory_film_id_fkey\" FOREIGN KEY (film_id) REFERENCES pagila.film(film_id) ON UPDATE CASCADE ON DELETE RESTRICT\n",
      "Triggers:\n",
      "    film_fulltext_trigger BEFORE INSERT OR UPDATE ON pagila.film FOR EACH ROW EXECUTE FUNCTION tsvector_update_trigger('fulltext', 'pg_catalog.english', 'title', 'description')\n",
      "    last_updated BEFORE UPDATE ON pagila.film FOR EACH ROW EXECUTE FUNCTION pagila.last_updated()\n",
      "\n"
     ]
    }
   ],
   "source": [
    "!psql -c \"\\d pagila.film\""
   ]
  },
  {
   "cell_type": "code",
   "execution_count": 10,
   "id": "f5e95edf-8e9a-49f1-99da-9ebd0a968720",
   "metadata": {},
   "outputs": [
    {
     "name": "stdout",
     "output_type": "stream",
     "text": [
      "                        Table \"pagila.film_actor\"\n",
      "   Column    |           Type           | Collation | Nullable | Default \n",
      "-------------+--------------------------+-----------+----------+---------\n",
      " actor_id    | smallint                 |           | not null | \n",
      " film_id     | smallint                 |           | not null | \n",
      " last_update | timestamp with time zone |           | not null | now()\n",
      "Indexes:\n",
      "    \"film_actor_pkey\" PRIMARY KEY, btree (actor_id, film_id)\n",
      "    \"idx_fk_film_id\" btree (film_id)\n",
      "Foreign-key constraints:\n",
      "    \"film_actor_actor_id_fkey\" FOREIGN KEY (actor_id) REFERENCES pagila.actor(actor_id) ON UPDATE CASCADE ON DELETE RESTRICT\n",
      "    \"film_actor_film_id_fkey\" FOREIGN KEY (film_id) REFERENCES pagila.film(film_id) ON UPDATE CASCADE ON DELETE RESTRICT\n",
      "Triggers:\n",
      "    last_updated BEFORE UPDATE ON pagila.film_actor FOR EACH ROW EXECUTE FUNCTION pagila.last_updated()\n",
      "\n"
     ]
    }
   ],
   "source": [
    "!psql -c \"\\d pagila.film_actor\""
   ]
  },
  {
   "cell_type": "code",
   "execution_count": 11,
   "id": "6b66315f-f2ad-423d-896d-dde751e91329",
   "metadata": {},
   "outputs": [
    {
     "name": "stdout",
     "output_type": "stream",
     "text": [
      "                      Table \"pagila.film_category\"\n",
      "   Column    |           Type           | Collation | Nullable | Default \n",
      "-------------+--------------------------+-----------+----------+---------\n",
      " film_id     | smallint                 |           | not null | \n",
      " category_id | smallint                 |           | not null | \n",
      " last_update | timestamp with time zone |           | not null | now()\n",
      "Indexes:\n",
      "    \"film_category_pkey\" PRIMARY KEY, btree (film_id, category_id)\n",
      "Foreign-key constraints:\n",
      "    \"film_category_category_id_fkey\" FOREIGN KEY (category_id) REFERENCES pagila.category(category_id) ON UPDATE CASCADE ON DELETE RESTRICT\n",
      "    \"film_category_film_id_fkey\" FOREIGN KEY (film_id) REFERENCES pagila.film(film_id) ON UPDATE CASCADE ON DELETE RESTRICT\n",
      "Triggers:\n",
      "    last_updated BEFORE UPDATE ON pagila.film_category FOR EACH ROW EXECUTE FUNCTION pagila.last_updated()\n",
      "\n"
     ]
    }
   ],
   "source": [
    "!psql -c \"\\d pagila.film_category\""
   ]
  },
  {
   "cell_type": "code",
   "execution_count": 12,
   "id": "8ab76cbc-627d-467f-afc2-99d8428b3ab8",
   "metadata": {},
   "outputs": [
    {
     "name": "stdout",
     "output_type": "stream",
     "text": [
      "                                               Table \"pagila.address\"\n",
      "   Column    |           Type           | Collation | Nullable |                      Default                       \n",
      "-------------+--------------------------+-----------+----------+----------------------------------------------------\n",
      " address_id  | integer                  |           | not null | nextval('pagila.address_address_id_seq'::regclass)\n",
      " address     | text                     |           | not null | \n",
      " address2    | text                     |           |          | \n",
      " district    | text                     |           | not null | \n",
      " city_id     | smallint                 |           | not null | \n",
      " postal_code | text                     |           |          | \n",
      " phone       | text                     |           | not null | \n",
      " last_update | timestamp with time zone |           | not null | now()\n",
      "Indexes:\n",
      "    \"address_pkey\" PRIMARY KEY, btree (address_id)\n",
      "    \"idx_fk_city_id\" btree (city_id)\n",
      "Foreign-key constraints:\n",
      "    \"address_city_id_fkey\" FOREIGN KEY (city_id) REFERENCES pagila.city(city_id) ON UPDATE CASCADE ON DELETE RESTRICT\n",
      "Referenced by:\n",
      "    TABLE \"pagila.customer\" CONSTRAINT \"customer_address_id_fkey\" FOREIGN KEY (address_id) REFERENCES pagila.address(address_id) ON UPDATE CASCADE ON DELETE RESTRICT\n",
      "    TABLE \"pagila.staff\" CONSTRAINT \"staff_address_id_fkey\" FOREIGN KEY (address_id) REFERENCES pagila.address(address_id) ON UPDATE CASCADE ON DELETE RESTRICT\n",
      "    TABLE \"pagila.store\" CONSTRAINT \"store_address_id_fkey\" FOREIGN KEY (address_id) REFERENCES pagila.address(address_id) ON UPDATE CASCADE ON DELETE RESTRICT\n",
      "Triggers:\n",
      "    last_updated BEFORE UPDATE ON pagila.address FOR EACH ROW EXECUTE FUNCTION pagila.last_updated()\n",
      "\n"
     ]
    }
   ],
   "source": [
    "!psql -c \"\\d pagila.address\""
   ]
  },
  {
   "cell_type": "code",
   "execution_count": 13,
   "id": "963654e8-d8fa-440b-97ec-afd1c185ffbf",
   "metadata": {},
   "outputs": [
    {
     "name": "stdout",
     "output_type": "stream",
     "text": [
      "                                             Table \"pagila.city\"\n",
      "   Column    |           Type           | Collation | Nullable |                   Default                    \n",
      "-------------+--------------------------+-----------+----------+----------------------------------------------\n",
      " city_id     | integer                  |           | not null | nextval('pagila.city_city_id_seq'::regclass)\n",
      " city        | text                     |           | not null | \n",
      " country_id  | smallint                 |           | not null | \n",
      " last_update | timestamp with time zone |           | not null | now()\n",
      "Indexes:\n",
      "    \"city_pkey\" PRIMARY KEY, btree (city_id)\n",
      "    \"idx_fk_country_id\" btree (country_id)\n",
      "Foreign-key constraints:\n",
      "    \"city_country_id_fkey\" FOREIGN KEY (country_id) REFERENCES pagila.country(country_id) ON UPDATE CASCADE ON DELETE RESTRICT\n",
      "Referenced by:\n",
      "    TABLE \"pagila.address\" CONSTRAINT \"address_city_id_fkey\" FOREIGN KEY (city_id) REFERENCES pagila.city(city_id) ON UPDATE CASCADE ON DELETE RESTRICT\n",
      "Triggers:\n",
      "    last_updated BEFORE UPDATE ON pagila.city FOR EACH ROW EXECUTE FUNCTION pagila.last_updated()\n",
      "\n"
     ]
    }
   ],
   "source": [
    "!psql -c \"\\d pagila.city\""
   ]
  },
  {
   "cell_type": "code",
   "execution_count": 14,
   "id": "3f7f44e4-2b52-478e-bbd1-7d1a6caab0e6",
   "metadata": {},
   "outputs": [
    {
     "name": "stdout",
     "output_type": "stream",
     "text": [
      "                                               Table \"pagila.country\"\n",
      "   Column    |           Type           | Collation | Nullable |                      Default                       \n",
      "-------------+--------------------------+-----------+----------+----------------------------------------------------\n",
      " country_id  | integer                  |           | not null | nextval('pagila.country_country_id_seq'::regclass)\n",
      " country     | text                     |           | not null | \n",
      " last_update | timestamp with time zone |           | not null | now()\n",
      "Indexes:\n",
      "    \"country_pkey\" PRIMARY KEY, btree (country_id)\n",
      "Referenced by:\n",
      "    TABLE \"pagila.city\" CONSTRAINT \"city_country_id_fkey\" FOREIGN KEY (country_id) REFERENCES pagila.country(country_id) ON UPDATE CASCADE ON DELETE RESTRICT\n",
      "Triggers:\n",
      "    last_updated BEFORE UPDATE ON pagila.country FOR EACH ROW EXECUTE FUNCTION pagila.last_updated()\n",
      "\n"
     ]
    }
   ],
   "source": [
    "!psql -c \"\\d pagila.country\""
   ]
  },
  {
   "cell_type": "code",
   "execution_count": 15,
   "id": "a380c11f-1648-4402-874c-9577b96320e0",
   "metadata": {},
   "outputs": [
    {
     "name": "stdout",
     "output_type": "stream",
     "text": [
      "                                                Table \"pagila.inventory\"\n",
      "    Column    |           Type           | Collation | Nullable |                        Default                         \n",
      "--------------+--------------------------+-----------+----------+--------------------------------------------------------\n",
      " inventory_id | integer                  |           | not null | nextval('pagila.inventory_inventory_id_seq'::regclass)\n",
      " film_id      | smallint                 |           | not null | \n",
      " store_id     | smallint                 |           | not null | \n",
      " last_update  | timestamp with time zone |           | not null | now()\n",
      "Indexes:\n",
      "    \"inventory_pkey\" PRIMARY KEY, btree (inventory_id)\n",
      "    \"idx_store_id_film_id\" btree (store_id, film_id)\n",
      "Foreign-key constraints:\n",
      "    \"inventory_film_id_fkey\" FOREIGN KEY (film_id) REFERENCES pagila.film(film_id) ON UPDATE CASCADE ON DELETE RESTRICT\n",
      "    \"inventory_store_id_fkey\" FOREIGN KEY (store_id) REFERENCES pagila.store(store_id) ON UPDATE CASCADE ON DELETE RESTRICT\n",
      "Referenced by:\n",
      "    TABLE \"pagila.rental\" CONSTRAINT \"rental_inventory_id_fkey\" FOREIGN KEY (inventory_id) REFERENCES pagila.inventory(inventory_id) ON UPDATE CASCADE ON DELETE RESTRICT\n",
      "Triggers:\n",
      "    last_updated BEFORE UPDATE ON pagila.inventory FOR EACH ROW EXECUTE FUNCTION pagila.last_updated()\n",
      "\n"
     ]
    }
   ],
   "source": [
    "!psql -c \"\\d pagila.inventory\""
   ]
  },
  {
   "cell_type": "code",
   "execution_count": 16,
   "id": "e53fe034-0d32-4f4a-a278-8f313665fe55",
   "metadata": {},
   "outputs": [
    {
     "name": "stdout",
     "output_type": "stream",
     "text": [
      "                                               Table \"pagila.language\"\n",
      "   Column    |           Type           | Collation | Nullable |                       Default                        \n",
      "-------------+--------------------------+-----------+----------+------------------------------------------------------\n",
      " language_id | integer                  |           | not null | nextval('pagila.language_language_id_seq'::regclass)\n",
      " name        | character(20)            |           | not null | \n",
      " last_update | timestamp with time zone |           | not null | now()\n",
      "Indexes:\n",
      "    \"language_pkey\" PRIMARY KEY, btree (language_id)\n",
      "Referenced by:\n",
      "    TABLE \"pagila.film\" CONSTRAINT \"film_language_id_fkey\" FOREIGN KEY (language_id) REFERENCES pagila.language(language_id) ON UPDATE CASCADE ON DELETE RESTRICT\n",
      "    TABLE \"pagila.film\" CONSTRAINT \"film_original_language_id_fkey\" FOREIGN KEY (original_language_id) REFERENCES pagila.language(language_id) ON UPDATE CASCADE ON DELETE RESTRICT\n",
      "Triggers:\n",
      "    last_updated BEFORE UPDATE ON pagila.language FOR EACH ROW EXECUTE FUNCTION pagila.last_updated()\n",
      "\n"
     ]
    }
   ],
   "source": [
    "!psql -c \"\\d pagila.language\""
   ]
  },
  {
   "cell_type": "code",
   "execution_count": 17,
   "id": "21071803-ab2a-4a91-b530-18041ce914b7",
   "metadata": {},
   "outputs": [
    {
     "name": "stdout",
     "output_type": "stream",
     "text": [
      "                                               Table \"pagila.payment\"\n",
      "    Column    |           Type           | Collation | Nullable |                      Default                       \n",
      "--------------+--------------------------+-----------+----------+----------------------------------------------------\n",
      " payment_id   | integer                  |           | not null | nextval('pagila.payment_payment_id_seq'::regclass)\n",
      " customer_id  | smallint                 |           | not null | \n",
      " staff_id     | smallint                 |           | not null | \n",
      " rental_id    | integer                  |           | not null | \n",
      " amount       | numeric(5,2)             |           | not null | \n",
      " payment_date | timestamp with time zone |           | not null | \n",
      "Indexes:\n",
      "    \"payment_pkey\" PRIMARY KEY, btree (payment_id)\n",
      "    \"idx_fk_customer_id\" btree (customer_id)\n",
      "    \"idx_fk_staff_id\" btree (staff_id)\n",
      "Foreign-key constraints:\n",
      "    \"customer_id_fkey\" FOREIGN KEY (customer_id) REFERENCES pagila.customer(customer_id) ON UPDATE CASCADE ON DELETE RESTRICT\n",
      "    \"rental_id_fkey\" FOREIGN KEY (rental_id) REFERENCES pagila.rental(rental_id) ON UPDATE CASCADE ON DELETE RESTRICT\n",
      "    \"staff_id_fkey\" FOREIGN KEY (staff_id) REFERENCES pagila.staff(staff_id) ON UPDATE CASCADE ON DELETE RESTRICT\n",
      "\n"
     ]
    }
   ],
   "source": [
    "!psql -c \"\\d pagila.payment\""
   ]
  },
  {
   "cell_type": "code",
   "execution_count": 18,
   "id": "4e438583-7267-4dab-ba14-85c2f2aa6c8b",
   "metadata": {},
   "outputs": [
    {
     "name": "stdout",
     "output_type": "stream",
     "text": [
      "                                               Table \"pagila.rental\"\n",
      "    Column    |           Type           | Collation | Nullable |                     Default                      \n",
      "--------------+--------------------------+-----------+----------+--------------------------------------------------\n",
      " rental_id    | integer                  |           | not null | nextval('pagila.rental_rental_id_seq'::regclass)\n",
      " rental_date  | timestamp with time zone |           | not null | \n",
      " inventory_id | integer                  |           | not null | \n",
      " customer_id  | smallint                 |           | not null | \n",
      " return_date  | timestamp with time zone |           |          | \n",
      " staff_id     | smallint                 |           | not null | \n",
      " last_update  | timestamp with time zone |           | not null | now()\n",
      "Indexes:\n",
      "    \"rental_pkey\" PRIMARY KEY, btree (rental_id)\n",
      "    \"idx_fk_inventory_id\" btree (inventory_id)\n",
      "    \"idx_unq_rental_rental_date_inventory_id_customer_id\" UNIQUE, btree (rental_date, inventory_id, customer_id)\n",
      "Foreign-key constraints:\n",
      "    \"rental_customer_id_fkey\" FOREIGN KEY (customer_id) REFERENCES pagila.customer(customer_id) ON UPDATE CASCADE ON DELETE RESTRICT\n",
      "    \"rental_inventory_id_fkey\" FOREIGN KEY (inventory_id) REFERENCES pagila.inventory(inventory_id) ON UPDATE CASCADE ON DELETE RESTRICT\n",
      "    \"rental_staff_id_fkey\" FOREIGN KEY (staff_id) REFERENCES pagila.staff(staff_id) ON UPDATE CASCADE ON DELETE RESTRICT\n",
      "Referenced by:\n",
      "    TABLE \"pagila.payment\" CONSTRAINT \"rental_id_fkey\" FOREIGN KEY (rental_id) REFERENCES pagila.rental(rental_id) ON UPDATE CASCADE ON DELETE RESTRICT\n",
      "Triggers:\n",
      "    last_updated BEFORE UPDATE ON pagila.rental FOR EACH ROW EXECUTE FUNCTION pagila.last_updated()\n",
      "\n"
     ]
    }
   ],
   "source": [
    "!psql -c \"\\d pagila.rental\""
   ]
  },
  {
   "cell_type": "code",
   "execution_count": 19,
   "id": "88065e33-585f-40d7-a498-379ef1eb7dc5",
   "metadata": {},
   "outputs": [
    {
     "name": "stdout",
     "output_type": "stream",
     "text": [
      "                                              Table \"pagila.staff\"\n",
      "   Column    |           Type           | Collation | Nullable |                    Default                     \n",
      "-------------+--------------------------+-----------+----------+------------------------------------------------\n",
      " staff_id    | integer                  |           | not null | nextval('pagila.staff_staff_id_seq'::regclass)\n",
      " first_name  | text                     |           | not null | \n",
      " last_name   | text                     |           | not null | \n",
      " address_id  | smallint                 |           | not null | \n",
      " email       | text                     |           |          | \n",
      " store_id    | smallint                 |           | not null | \n",
      " active      | boolean                  |           | not null | true\n",
      " username    | text                     |           | not null | \n",
      " password    | text                     |           |          | \n",
      " last_update | timestamp with time zone |           | not null | now()\n",
      " picture     | bytea                    |           |          | \n",
      "Indexes:\n",
      "    \"staff_pkey\" PRIMARY KEY, btree (staff_id)\n",
      "Foreign-key constraints:\n",
      "    \"staff_address_id_fkey\" FOREIGN KEY (address_id) REFERENCES pagila.address(address_id) ON UPDATE CASCADE ON DELETE RESTRICT\n",
      "    \"staff_store_id_fkey\" FOREIGN KEY (store_id) REFERENCES pagila.store(store_id)\n",
      "Referenced by:\n",
      "    TABLE \"pagila.rental\" CONSTRAINT \"rental_staff_id_fkey\" FOREIGN KEY (staff_id) REFERENCES pagila.staff(staff_id) ON UPDATE CASCADE ON DELETE RESTRICT\n",
      "    TABLE \"pagila.payment\" CONSTRAINT \"staff_id_fkey\" FOREIGN KEY (staff_id) REFERENCES pagila.staff(staff_id) ON UPDATE CASCADE ON DELETE RESTRICT\n",
      "Triggers:\n",
      "    last_updated BEFORE UPDATE ON pagila.staff FOR EACH ROW EXECUTE FUNCTION pagila.last_updated()\n",
      "\n"
     ]
    }
   ],
   "source": [
    "!psql -c \"\\d pagila.staff\""
   ]
  },
  {
   "cell_type": "code",
   "execution_count": 20,
   "id": "5cb1a453-6822-4b28-be70-6b415523f556",
   "metadata": {},
   "outputs": [
    {
     "name": "stdout",
     "output_type": "stream",
     "text": [
      "                                                Table \"pagila.store\"\n",
      "      Column      |           Type           | Collation | Nullable |                    Default                     \n",
      "------------------+--------------------------+-----------+----------+------------------------------------------------\n",
      " store_id         | integer                  |           | not null | nextval('pagila.store_store_id_seq'::regclass)\n",
      " manager_staff_id | smallint                 |           | not null | \n",
      " address_id       | smallint                 |           | not null | \n",
      " last_update      | timestamp with time zone |           | not null | now()\n",
      "Indexes:\n",
      "    \"store_pkey\" PRIMARY KEY, btree (store_id)\n",
      "    \"idx_unq_manager_staff_id\" UNIQUE, btree (manager_staff_id)\n",
      "Foreign-key constraints:\n",
      "    \"store_address_id_fkey\" FOREIGN KEY (address_id) REFERENCES pagila.address(address_id) ON UPDATE CASCADE ON DELETE RESTRICT\n",
      "Referenced by:\n",
      "    TABLE \"pagila.customer\" CONSTRAINT \"customer_store_id_fkey\" FOREIGN KEY (store_id) REFERENCES pagila.store(store_id) ON UPDATE CASCADE ON DELETE RESTRICT\n",
      "    TABLE \"pagila.inventory\" CONSTRAINT \"inventory_store_id_fkey\" FOREIGN KEY (store_id) REFERENCES pagila.store(store_id) ON UPDATE CASCADE ON DELETE RESTRICT\n",
      "    TABLE \"pagila.staff\" CONSTRAINT \"staff_store_id_fkey\" FOREIGN KEY (store_id) REFERENCES pagila.store(store_id)\n",
      "Triggers:\n",
      "    last_updated BEFORE UPDATE ON pagila.store FOR EACH ROW EXECUTE FUNCTION pagila.last_updated()\n",
      "\n"
     ]
    }
   ],
   "source": [
    "!psql -c \"\\d pagila.store\""
   ]
  },
  {
   "cell_type": "markdown",
   "id": "d1640e09-4b6d-4343-a839-f33606397848",
   "metadata": {},
   "source": [
    "Write 3 queries that use an INNER JOIN between two or more tables. The queries\n",
    "should also include a WHERE clause and ORDER BY clause. Feel free to include a\n",
    "LIMIT clause if the output returns > 10 rows. Add a short Markdown comment in your\n",
    "notebook above each SQL statement. "
   ]
  },
  {
   "cell_type": "markdown",
   "id": "762eca10-8ae7-4857-a70f-e84d6455c5cc",
   "metadata": {},
   "source": [
    "1. Found all customer names with addresses in the system and their postal codes with last name starting with 'G', sorted by postal code."
   ]
  },
  {
   "cell_type": "code",
   "execution_count": 92,
   "id": "dc322073-0f3d-4165-873e-997f21d05853",
   "metadata": {},
   "outputs": [
    {
     "name": "stdout",
     "output_type": "stream",
     "text": [
      " first_name | last_name | postal_code \n",
      "------------+-----------+-------------\n",
      " NELLIE     | GARRETT   | 14408\n",
      " ALEX       | GRESHAM   | 16119\n",
      " RUBEN      | GEARY     | 16370\n",
      " HARVEY     | GUAJARDO  | 18043\n",
      " JOE        | GILLILAND | 18841\n",
      " BRANDY     | GRAVES    | 24645\n",
      " RANDY      | GAITHER   | 26385\n",
      " ADAM       | GOOCH     | 2738\n",
      " DENNIS     | GILMAN    | 31483\n",
      " JOANN      | GARDNER   | 3313\n",
      "(10 rows)\n",
      "\n"
     ]
    }
   ],
   "source": [
    "!psql -c \"SELECT first_name, last_name, postal_code FROM pagila.customer INNER JOIN pagila.address ON pagila.customer.address_id = pagila.address.address_id WHERE last_name LIKE 'G%' ORDER BY postal_code LIMIT 10;\""
   ]
  },
  {
   "cell_type": "markdown",
   "id": "72c1f082-5413-4b99-8eab-42298e5cb6fc",
   "metadata": {},
   "source": [
    "2. Found all movies that had categories listed and their categories where the movie title started with 'G', sorted by film_id."
   ]
  },
  {
   "cell_type": "code",
   "execution_count": 91,
   "id": "64c76ef7-4d88-4d8d-82c4-dbc6a35764d7",
   "metadata": {},
   "outputs": [
    {
     "name": "stdout",
     "output_type": "stream",
     "text": [
      "       title        |   name    \n",
      "--------------------+-----------\n",
      " GABLES METROPOLIS  | Family\n",
      " GALAXY SWEETHEARTS | Classics\n",
      " GAMES BOWFINGER    | Travel\n",
      " GANDHI KWAI        | Family\n",
      " GANGS PRIDE        | Animation\n",
      " GARDEN ISLAND      | Sci-Fi\n",
      " GASLIGHT CRUSADE   | Horror\n",
      " GATHERING CALENDAR | Games\n",
      " GENTLEMEN STAGE    | Foreign\n",
      " GHOST GROUNDHOG    | Children\n",
      "(10 rows)\n",
      "\n"
     ]
    }
   ],
   "source": [
    "!psql -c \"SELECT title, name FROM pagila.film INNER JOIN pagila.film_category ON pagila.film.film_id = pagila.film_category.film_id INNER JOIN pagila.category ON pagila.film_category.category_id = pagila.category.category_id WHERE title LIKE 'G%' ORDER BY film.film_id LIMIT 10;\""
   ]
  },
  {
   "cell_type": "markdown",
   "id": "9c37c2a1-3891-4a0a-9a13-7a38b1428bc0",
   "metadata": {},
   "source": [
    "3. Found all the cities and countries where the city starts with 'G', sorted by country name alphabetically."
   ]
  },
  {
   "cell_type": "code",
   "execution_count": 90,
   "id": "709b21c1-0d09-4cf7-8b1b-fe4072d1ba9c",
   "metadata": {},
   "outputs": [
    {
     "name": "stdout",
     "output_type": "stream",
     "text": [
      "    city     |   country   \n",
      "-------------+-------------\n",
      " Graz        | Austria\n",
      " Goinia      | Brazil\n",
      " Guaruj      | Brazil\n",
      " Gatineau    | Canada\n",
      " Gulbarga    | India\n",
      " Gandhinagar | India\n",
      " Gorontalo   | Indonesia\n",
      " Guadalajara | Mexico\n",
      " Gingoog     | Philippines\n",
      " Gijn        | Spain\n",
      "(10 rows)\n",
      "\n"
     ]
    }
   ],
   "source": [
    "!psql -c \"SELECT city, country FROM pagila.city INNER JOIN pagila.country ON pagila.city.country_id = pagila.country.country_id WHERE city LIKE 'G%' ORDER BY country LIMIT 10;\""
   ]
  },
  {
   "cell_type": "markdown",
   "id": "37566e7e-47e1-47d3-ba64-399847b66361",
   "metadata": {},
   "source": [
    "Write 3 queries that use an OUTER JOIN between two or more tables. The\n",
    "queries should also include a WHERE clause and ORDER BY clause. Feel free to\n",
    "include a LIMIT clause if the output returns > 10 rows. Again, add a short Markdown\n",
    "comment above each SQL statement. "
   ]
  },
  {
   "cell_type": "markdown",
   "id": "62184a7f-79f9-4ad1-b718-5e45c56326fd",
   "metadata": {},
   "source": [
    "1. Looking at all customers that had payments with amount more than $10."
   ]
  },
  {
   "cell_type": "code",
   "execution_count": 89,
   "id": "bc09c9a1-4225-40b4-8294-f061c30ef7db",
   "metadata": {},
   "outputs": [
    {
     "name": "stdout",
     "output_type": "stream",
     "text": [
      " first_name | last_name | amount \n",
      "------------+-----------+--------\n",
      " BRANDY     | GRAVES    |  10.99\n",
      " LONNIE     | TIRADO    |  10.99\n",
      " RITA       | GRAHAM    |  10.99\n",
      " DAVID      | ROYAL     |  10.99\n",
      " VIOLET     | RODRIQUEZ |  10.99\n",
      " DON        | BONE      |  10.99\n",
      " DAN        | PAINE     |  10.99\n",
      " CHESTER    | BENNER    |  10.99\n",
      " ELMER      | NOE       |  10.99\n",
      " CODY       | NOLEN     |  10.99\n",
      "(10 rows)\n",
      "\n"
     ]
    }
   ],
   "source": [
    "!psql -c \"SELECT first_name, last_name, amount FROM pagila.customer FULL OUTER JOIN pagila.payment ON pagila.customer.customer_id = pagila.payment.customer_id WHERE amount > 10 ORDER BY amount LIMIT 10;\""
   ]
  },
  {
   "cell_type": "markdown",
   "id": "0d4635c8-a986-4d61-b7a6-07b185abc2a0",
   "metadata": {},
   "source": [
    "2. Selected the employee name and store ID for any employees with last name starting with 'H' (there was only one)."
   ]
  },
  {
   "cell_type": "code",
   "execution_count": 88,
   "id": "5b7a4917-920e-4f5a-a68d-0de9f4b73c73",
   "metadata": {},
   "outputs": [
    {
     "name": "stdout",
     "output_type": "stream",
     "text": [
      " first_name | last_name | store_id \n",
      "------------+-----------+----------\n",
      " Mike       | Hillyer   |        1\n",
      "(1 row)\n",
      "\n"
     ]
    }
   ],
   "source": [
    "!psql -c \"SELECT first_name, last_name, pagila.store.store_id FROM pagila.store FULL OUTER JOIN pagila.staff ON pagila.store.store_id = pagila.staff.store_id WHERE last_name LIKE 'H%' ORDER BY last_name;\""
   ]
  },
  {
   "cell_type": "markdown",
   "id": "09488414-d1a4-4e89-a1e4-6358c09cf588",
   "metadata": {},
   "source": [
    "3. Found movies and their film_ids for movies that are ininventory at store 1, sorted by film_id."
   ]
  },
  {
   "cell_type": "code",
   "execution_count": 87,
   "id": "e8827c33-8d63-4e37-bca6-1cfe5ae0f250",
   "metadata": {},
   "outputs": [
    {
     "name": "stdout",
     "output_type": "stream",
     "text": [
      "      title       | film_id \n",
      "------------------+---------\n",
      " ACADEMY DINOSAUR |       1\n",
      " AFFAIR PREJUDICE |       4\n",
      " AGENT TRUMAN     |       6\n",
      " AIRPLANE SIERRA  |       7\n",
      " ALABAMA DEVIL    |       9\n",
      " ALADDIN CALENDAR |      10\n",
      " ALAMO VIDEOTAPE  |      11\n",
      " ALASKA PHANTOM   |      12\n",
      " ALIEN CENTER     |      15\n",
      " ALLEY EVOLUTION  |      16\n",
      "(10 rows)\n",
      "\n"
     ]
    }
   ],
   "source": [
    "!psql -c \"SELECT DISTINCT title, pagila.film.film_id FROM pagila.film FULL OUTER JOIN pagila.inventory ON pagila.film.film_id = pagila.inventory.film_id WHERE store_id = 1 ORDER BY pagila.film.film_id LIMIT 10;\""
   ]
  },
  {
   "cell_type": "markdown",
   "id": "16580eaa-d159-45bd-a234-ea3dd76ecc3d",
   "metadata": {},
   "source": [
    "Write 1 query that uses a self join on any table. Feel free to include a LIMIT clause\n",
    "if the output returns > 10 rows. Add a short Markdown comment above each SQL\n",
    "statement."
   ]
  },
  {
   "cell_type": "markdown",
   "id": "627f132a-ce74-4334-9555-54d83651e604",
   "metadata": {},
   "source": [
    "Finding all the customers that have the same last name (there are none)."
   ]
  },
  {
   "cell_type": "code",
   "execution_count": 86,
   "id": "d6f06f3d-1656-4235-894b-156a894ec444",
   "metadata": {},
   "outputs": [
    {
     "name": "stdout",
     "output_type": "stream",
     "text": [
      " last_name | first_name | last_name | first_name \n",
      "-----------+------------+-----------+------------\n",
      "(0 rows)\n",
      "\n"
     ]
    }
   ],
   "source": [
    "!psql -c \"SELECT  c1.last_name, c1.first_name, c2.last_name, c2.first_name FROM pagila.customer AS c1 INNER JOIN pagila.customer AS c2 ON (c1.last_name = c2.last_name AND c1.customer_id != c2.customer_id);\""
   ]
  },
  {
   "cell_type": "code",
   "execution_count": null,
   "id": "96fdfcfb-4c82-45db-92b6-64c55da22a2d",
   "metadata": {},
   "outputs": [],
   "source": []
  }
 ],
 "metadata": {
  "environment": {
   "kernel": "python3",
   "name": "common-cpu.m103",
   "type": "gcloud",
   "uri": "gcr.io/deeplearning-platform-release/base-cpu:m103"
  },
  "kernelspec": {
   "display_name": "Python 3",
   "language": "python",
   "name": "python3"
  },
  "language_info": {
   "codemirror_mode": {
    "name": "ipython",
    "version": 3
   },
   "file_extension": ".py",
   "mimetype": "text/x-python",
   "name": "python",
   "nbconvert_exporter": "python",
   "pygments_lexer": "ipython3",
   "version": "3.7.12"
  }
 },
 "nbformat": 4,
 "nbformat_minor": 5
}
