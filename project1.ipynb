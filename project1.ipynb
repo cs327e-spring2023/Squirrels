{
 "cells": [
  {
   "cell_type": "code",
   "execution_count": 1,
   "id": "74ffe04f-c1b2-48ef-aaf6-6db25b693935",
   "metadata": {},
   "outputs": [
    {
     "name": "stdout",
     "output_type": "stream",
     "text": [
      "env: INSTANCE=my\n"
     ]
    }
   ],
   "source": [
    "%env INSTANCE=my"
   ]
  },
  {
   "cell_type": "code",
   "execution_count": 2,
   "id": "52a5c336-90b9-4f8e-b256-4fdbec0b8844",
   "metadata": {},
   "outputs": [],
   "source": [
    "!mysql < /home/jupyter/sakila/sakila-database.sql"
   ]
  },
  {
   "cell_type": "code",
   "execution_count": 3,
   "id": "bb52e87f-21f1-4323-a063-d520eeb22910",
   "metadata": {},
   "outputs": [],
   "source": [
    "!mysql < /home/jupyter/sakila/sakila-data.sql"
   ]
  },
  {
   "cell_type": "code",
   "execution_count": 4,
   "id": "69119eab-9938-40b5-87e6-f4539f54fa3b",
   "metadata": {},
   "outputs": [
    {
     "name": "stdout",
     "output_type": "stream",
     "text": [
      "+----------------------------+\n",
      "| Tables_in_sakila           |\n",
      "+----------------------------+\n",
      "| actor                      |\n",
      "| actor_info                 |\n",
      "| address                    |\n",
      "| category                   |\n",
      "| city                       |\n",
      "| country                    |\n",
      "| customer                   |\n",
      "| customer_list              |\n",
      "| film                       |\n",
      "| film_actor                 |\n",
      "| film_category              |\n",
      "| film_list                  |\n",
      "| film_text                  |\n",
      "| inventory                  |\n",
      "| language                   |\n",
      "| nicer_but_slower_film_list |\n",
      "| payment                    |\n",
      "| rental                     |\n",
      "| sales_by_film_category     |\n",
      "| sales_by_store             |\n",
      "| staff                      |\n",
      "| staff_list                 |\n",
      "| store                      |\n",
      "+----------------------------+\n"
     ]
    }
   ],
   "source": [
    "!mysql sakila -e \"show tables\""
   ]
  },
  {
   "cell_type": "markdown",
   "id": "eb4ac458-708b-41b6-9262-6cacd7b4de53",
   "metadata": {},
   "source": [
    "1. Write queries to get a row count for five of the tables in the database. Include the five SQL statements."
   ]
  },
  {
   "cell_type": "code",
   "execution_count": 5,
   "id": "cd1e0637-c788-4866-ad8e-07677bd89c48",
   "metadata": {},
   "outputs": [
    {
     "name": "stdout",
     "output_type": "stream",
     "text": [
      "+----------+\n",
      "| count(*) |\n",
      "+----------+\n",
      "|      200 |\n",
      "+----------+\n"
     ]
    }
   ],
   "source": [
    "!mysql sakila -e \"select count(*) from actor\""
   ]
  },
  {
   "cell_type": "code",
   "execution_count": 6,
   "id": "392bdeb5-b7c4-47c7-a3c1-ed8362e8cb70",
   "metadata": {},
   "outputs": [
    {
     "name": "stdout",
     "output_type": "stream",
     "text": [
      "+----------+\n",
      "| count(*) |\n",
      "+----------+\n",
      "|      997 |\n",
      "+----------+\n"
     ]
    }
   ],
   "source": [
    "!mysql sakila -e \"select count(*) from film_list\""
   ]
  },
  {
   "cell_type": "code",
   "execution_count": 7,
   "id": "3f9a7d19-fea6-4b20-abaa-d375715aa2cb",
   "metadata": {},
   "outputs": [
    {
     "name": "stdout",
     "output_type": "stream",
     "text": [
      "+----------+\n",
      "| count(*) |\n",
      "+----------+\n",
      "|      997 |\n",
      "+----------+\n"
     ]
    }
   ],
   "source": [
    "!mysql sakila -e \"select count(*) from nicer_but_slower_film_list\""
   ]
  },
  {
   "cell_type": "code",
   "execution_count": 8,
   "id": "57fe5f80-bc7a-4224-bd5a-af4d2c51e945",
   "metadata": {},
   "outputs": [
    {
     "name": "stdout",
     "output_type": "stream",
     "text": [
      "+----------+\n",
      "| count(*) |\n",
      "+----------+\n",
      "|        2 |\n",
      "+----------+\n"
     ]
    }
   ],
   "source": [
    "!mysql sakila -e \"select count(*) from store\""
   ]
  },
  {
   "cell_type": "code",
   "execution_count": 9,
   "id": "5fc73273-e88e-4c4a-8a56-c897fcfa487a",
   "metadata": {},
   "outputs": [
    {
     "name": "stdout",
     "output_type": "stream",
     "text": [
      "+----------+\n",
      "| count(*) |\n",
      "+----------+\n",
      "|        2 |\n",
      "+----------+\n"
     ]
    }
   ],
   "source": [
    "!mysql sakila -e \"select count(*) from staff\""
   ]
  },
  {
   "cell_type": "markdown",
   "id": "6287c427-41eb-4331-b82e-d030797f1b13",
   "metadata": {},
   "source": [
    "2. Write five queries to sample a few rows (showing only a few of the columns) from five of the tables, using the LIMIT clause. "
   ]
  },
  {
   "cell_type": "code",
   "execution_count": 10,
   "id": "5b6d7031-5f81-488b-8e66-7c1c37a3d318",
   "metadata": {},
   "outputs": [
    {
     "name": "stdout",
     "output_type": "stream",
     "text": [
      "+----------+-----------+\n",
      "| actor_id | last_name |\n",
      "+----------+-----------+\n",
      "|       58 | AKROYD    |\n",
      "|       92 | AKROYD    |\n",
      "|      182 | AKROYD    |\n",
      "|      118 | ALLEN     |\n",
      "|      145 | ALLEN     |\n",
      "+----------+-----------+\n"
     ]
    }
   ],
   "source": [
    "!mysql sakila -e \"select actor_id, last_name from actor limit 5\""
   ]
  },
  {
   "cell_type": "code",
   "execution_count": 11,
   "id": "69d804b5-7712-4094-9858-fb476453b777",
   "metadata": {},
   "outputs": [
    {
     "name": "stdout",
     "output_type": "stream",
     "text": [
      "+------+------------------+\n",
      "| fid  | title            |\n",
      "+------+------------------+\n",
      "|    1 | ACADEMY DINOSAUR |\n",
      "|    2 | ACE GOLDFINGER   |\n",
      "|    3 | ADAPTATION HOLES |\n",
      "|    4 | AFFAIR PREJUDICE |\n",
      "|    5 | AFRICAN EGG      |\n",
      "+------+------------------+\n"
     ]
    }
   ],
   "source": [
    "!mysql sakila -e \"select fid, title from film_list limit 5\""
   ]
  },
  {
   "cell_type": "code",
   "execution_count": 12,
   "id": "cc206f08-7fc0-4de6-94a4-b60767807cd1",
   "metadata": {},
   "outputs": [
    {
     "name": "stdout",
     "output_type": "stream",
     "text": [
      "+------+------------------+\n",
      "| fid  | title            |\n",
      "+------+------------------+\n",
      "|    1 | ACADEMY DINOSAUR |\n",
      "|    2 | ACE GOLDFINGER   |\n",
      "|    3 | ADAPTATION HOLES |\n",
      "|    4 | AFFAIR PREJUDICE |\n",
      "|    5 | AFRICAN EGG      |\n",
      "+------+------------------+\n"
     ]
    }
   ],
   "source": [
    "!mysql sakila -e \"select fid, title from nicer_but_slower_film_list limit 5\""
   ]
  },
  {
   "cell_type": "code",
   "execution_count": 13,
   "id": "55d351b6-91ce-4529-b256-de96508846b2",
   "metadata": {},
   "outputs": [
    {
     "name": "stdout",
     "output_type": "stream",
     "text": [
      "+----------+------------+\n",
      "| store_id | address_id |\n",
      "+----------+------------+\n",
      "|        1 |          1 |\n",
      "|        2 |          2 |\n",
      "+----------+------------+\n"
     ]
    }
   ],
   "source": [
    "!mysql sakila -e \"select store_id, address_id from store limit 5\""
   ]
  },
  {
   "cell_type": "code",
   "execution_count": 14,
   "id": "92a928ef-7256-4416-b109-418173a909a1",
   "metadata": {},
   "outputs": [
    {
     "name": "stdout",
     "output_type": "stream",
     "text": [
      "+----------+-----------+\n",
      "| staff_id | last_name |\n",
      "+----------+-----------+\n",
      "|        1 | Hillyer   |\n",
      "|        2 | Stephens  |\n",
      "+----------+-----------+\n"
     ]
    }
   ],
   "source": [
    "!mysql sakila -e \"select staff_id, last_name from staff limit 5\""
   ]
  },
  {
   "cell_type": "markdown",
   "id": "ce80f9f6-1f43-411c-9281-2ddc09a48ba6",
   "metadata": {},
   "source": [
    "3. Write a query (on any one table) that uses both a WHERE clause and an ORDER BY clause. Add a short comment above your SQL statement to describe the query. "
   ]
  },
  {
   "cell_type": "markdown",
   "id": "0a4cc91a-b608-4cd7-9067-ec21e70d680c",
   "metadata": {},
   "source": [
    "In this query, we found all actors with the first name \"Penelope\" and sorted the entries in alphabetical order by their last names."
   ]
  },
  {
   "cell_type": "code",
   "execution_count": 15,
   "id": "2389042c-b914-4fca-9c93-b712982a984c",
   "metadata": {},
   "outputs": [
    {
     "name": "stdout",
     "output_type": "stream",
     "text": [
      "+----------+------------+-----------+---------------------+\n",
      "| actor_id | first_name | last_name | last_update         |\n",
      "+----------+------------+-----------+---------------------+\n",
      "|      104 | PENELOPE   | CRONYN    | 2006-02-15 04:34:33 |\n",
      "|        1 | PENELOPE   | GUINESS   | 2006-02-15 04:34:33 |\n",
      "|      120 | PENELOPE   | MONROE    | 2006-02-15 04:34:33 |\n",
      "|       54 | PENELOPE   | PINKETT   | 2006-02-15 04:34:33 |\n",
      "+----------+------------+-----------+---------------------+\n"
     ]
    }
   ],
   "source": [
    "!mysql sakila -e \"select * from actor where first_name = 'penelope' order by last_name\""
   ]
  },
  {
   "cell_type": "markdown",
   "id": "72594194-c122-4166-aef5-3f1f61447d29",
   "metadata": {},
   "source": [
    "4. Write an INSERT statement to add a row into any one of the tables (*: make sure \n",
    "it is not a View by looking at its CREATE statement in the file sakila-\n",
    "database.sql). Add a short comment above your SQL statement to describe the \n",
    "statement.  "
   ]
  },
  {
   "cell_type": "markdown",
   "id": "c3121875-810b-48a2-a132-9482cee51507",
   "metadata": {},
   "source": [
    "We added an actor to the actor table: Leonardo Guardicaprio."
   ]
  },
  {
   "cell_type": "code",
   "execution_count": 16,
   "id": "51b0b8e1-40e0-46df-8b98-795253899e79",
   "metadata": {},
   "outputs": [],
   "source": [
    "!mysql sakila -e \"insert into actor values (201, 'Leonardo', 'Guardicaprio', '2023-02-10 17:21:00')\""
   ]
  },
  {
   "cell_type": "code",
   "execution_count": 17,
   "id": "41fd71fb-f863-4ff8-bef4-22d9019b7a3c",
   "metadata": {},
   "outputs": [
    {
     "name": "stdout",
     "output_type": "stream",
     "text": [
      "+----------+------------+--------------+---------------------+\n",
      "| actor_id | first_name | last_name    | last_update         |\n",
      "+----------+------------+--------------+---------------------+\n",
      "|      201 | Leonardo   | Guardicaprio | 2023-02-10 17:21:00 |\n",
      "+----------+------------+--------------+---------------------+\n"
     ]
    }
   ],
   "source": [
    "!mysql sakila -e \"select * from actor where first_name = 'leonardo'\""
   ]
  },
  {
   "cell_type": "markdown",
   "id": "86bcc5a6-5ad8-4bf2-8b47-b6e280121443",
   "metadata": {},
   "source": [
    "5. Write an UPDATE statement to update one or more rows from any one of the \n",
    "tables (*). Add a short comment above your SQL statement to describe the \n",
    "statement.  "
   ]
  },
  {
   "cell_type": "markdown",
   "id": "bcaebd92-4f8f-4f77-96e1-beaf519e430b",
   "metadata": {},
   "source": [
    "We messed up Leonardo's last name when we inserted it, so this update statement fixed it!"
   ]
  },
  {
   "cell_type": "code",
   "execution_count": null,
   "id": "216a59f4-2de5-46d2-8fd8-e1c3f484d9d9",
   "metadata": {},
   "outputs": [],
   "source": [
    "!mysql sakila -e \"update actor set last_name = 'Guardione' where first_name = 'Leonardo'\""
   ]
  },
  {
   "cell_type": "code",
   "execution_count": null,
   "id": "63d3319d-2e5f-4d5e-bdfc-6c341378bea9",
   "metadata": {},
   "outputs": [],
   "source": [
    "!mysql sakila -e \"select * from actor where first_name = 'leonardo'\""
   ]
  },
  {
   "cell_type": "markdown",
   "id": "ea9e5f7f-a5ce-4745-9b9c-cf8606eb3351",
   "metadata": {},
   "source": [
    "6. Write a DELETE statement to delete one or more rows from any one of the tables \n",
    "(*). Add a short comment above your SQL statement to describe the statement.  "
   ]
  },
  {
   "cell_type": "markdown",
   "id": "ad835218-139e-4e40-9aac-42afe535a216",
   "metadata": {},
   "source": [
    "Leonardo has admitted that he stopped acting in middle school and was never in any movies at all. We are deleting him from the actor table."
   ]
  },
  {
   "cell_type": "code",
   "execution_count": null,
   "id": "f0ac0c9f-79ed-44cf-8a28-fc3999ce1495",
   "metadata": {},
   "outputs": [],
   "source": [
    "!mysql sakila -e \"delete from actor where first_name = 'leonardo'\""
   ]
  },
  {
   "cell_type": "code",
   "execution_count": null,
   "id": "b2777e0f-8f2a-456e-8893-d00c66cd2534",
   "metadata": {},
   "outputs": [],
   "source": [
    "!mysql sakila -e \"select * from actor where first_name = 'leonardo'\""
   ]
  },
  {
   "cell_type": "code",
   "execution_count": null,
   "id": "89366fe7-c1a0-46f2-8e8e-b0ba379dec5e",
   "metadata": {},
   "outputs": [],
   "source": []
  }
 ],
 "metadata": {
  "environment": {
   "kernel": "python3",
   "name": "common-cpu.m103",
   "type": "gcloud",
   "uri": "gcr.io/deeplearning-platform-release/base-cpu:m103"
  },
  "kernelspec": {
   "display_name": "Python 3",
   "language": "python",
   "name": "python3"
  },
  "language_info": {
   "codemirror_mode": {
    "name": "ipython",
    "version": 3
   },
   "file_extension": ".py",
   "mimetype": "text/x-python",
   "name": "python",
   "nbconvert_exporter": "python",
   "pygments_lexer": "ipython3",
   "version": "3.7.12"
  }
 },
 "nbformat": 4,
 "nbformat_minor": 5
}
