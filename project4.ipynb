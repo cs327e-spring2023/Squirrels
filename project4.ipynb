{
 "cells": [
  {
   "cell_type": "code",
   "execution_count": 1,
   "id": "4bb99e35-efad-45f8-bfb2-9396c5cc7d8f",
   "metadata": {},
   "outputs": [],
   "source": [
    "# %env BASE_DIR=/home/jupyter/snippets"
   ]
  },
  {
   "cell_type": "code",
   "execution_count": 2,
   "id": "2eb1ba5e-d1df-410a-8468-1dbd21e59078",
   "metadata": {},
   "outputs": [],
   "source": [
    "# !gsutil cp gs://cs327e-open-access-2/shopify.zip ."
   ]
  },
  {
   "cell_type": "code",
   "execution_count": 3,
   "id": "38b6fd09-fe01-4890-8869-e488cc1c8d2b",
   "metadata": {},
   "outputs": [],
   "source": [
    "# !unzip $BASE_DIR/shopify.zip"
   ]
  },
  {
   "cell_type": "markdown",
   "id": "06d49fda-2653-424e-8d8a-339c2d7a4b33",
   "metadata": {},
   "source": [
    "1. Create the Firestore collections and subcollections based on your design and populate them with the Shopify records."
   ]
  },
  {
   "cell_type": "code",
   "execution_count": 4,
   "id": "ae9577f2-29b2-4c5e-8719-f73626306ba3",
   "metadata": {},
   "outputs": [],
   "source": [
    "import pandas as pd\n",
    "from google.cloud import firestore\n",
    "db = firestore.Client()\n",
    "batch = db.batch()\n",
    "\n",
    "df = pd.read_csv('shopify/categories.csv', sep=',', header=0, lineterminator='\\n')\n",
    "cat_rows = df.values.tolist()\n",
    "\n",
    "df = pd.read_csv('shopify/apps.csv', sep=',', header=0, lineterminator='\\n')\n",
    "app_rows = df.values.tolist()\n",
    "\n",
    "df = pd.read_csv('shopify/apps_categories.csv', sep=',', header=0, lineterminator='\\n')\n",
    "ac_rows = df.values.tolist()\n",
    "\n",
    "# putting category documents into categories collection\n",
    "# putting app documents into apps subcollection of each category document\n",
    "\n",
    "i = 0\n",
    "\n",
    "# categories collection\n",
    "for cat_row in cat_rows:\n",
    "    cat_record = {}\n",
    "    cat_record['cat_id'] = cat_row[0]\n",
    "    cat_record['title'] = cat_row[1]\n",
    "    \n",
    "    cat_ref = db.collection('categories').document(cat_row[0])\n",
    "    \n",
    "    batch.set(cat_ref, cat_record)\n",
    "    i += 1\n",
    "    if i > 400:\n",
    "        i = 0\n",
    "        batch.commit()\n",
    "    \n",
    "    # apps subcollection:\n",
    "    for ac_row in ac_rows:\n",
    "        if cat_row[0] == ac_row[1]:\n",
    "            for app_row in app_rows:\n",
    "                if app_row[0] == ac_row[0]:\n",
    "                    app_record = {}\n",
    "                    app_record['app_id'] = app_row[0]\n",
    "                    app_record['url'] = app_row[1]\n",
    "                    app_record['title'] = app_row[2]\n",
    "                    app_record['developer'] = app_row[3]\n",
    "                    app_record['developer_link'] = app_row[4]\n",
    "                    app_record['icon'] = app_row[5]\n",
    "                    app_record['rating'] = app_row[6]\n",
    "                    app_record['review_count'] = app_row[7]\n",
    "                    \n",
    "                    app_ref = cat_ref.collection('apps').document(app_row[0])\n",
    "                    \n",
    "                    batch.set(app_ref, app_record)\n",
    "                    i += 1\n",
    "                    if i > 400:\n",
    "                        i = 0\n",
    "                        batch.commit()\n",
    "                    \n",
    "    batch.commit()"
   ]
  },
  {
   "cell_type": "code",
   "execution_count": 5,
   "id": "906950d8-0fa0-4eb4-abda-967722efabc2",
   "metadata": {},
   "outputs": [],
   "source": [
    "import pandas as pd\n",
    "from google.cloud import firestore\n",
    "db = firestore.Client()\n",
    "batch = db.batch()\n",
    "\n",
    "df = pd.read_csv('shopify/pricing_plans.csv', sep=',', header=0, lineterminator='\\n')\n",
    "pp_rows = df.values.tolist()\n",
    "\n",
    "df = pd.read_csv('shopify/pricing_plan_features.csv', sep=',', header=0, lineterminator='\\n')\n",
    "ppf_rows = df.values.tolist()\n",
    "\n",
    "df = pd.read_csv('shopify/key_benefits.csv', sep=',', header=0, lineterminator='\\n')\n",
    "kb_rows = df.values.tolist()\n",
    "\n",
    "# putting app documents into apps collection\n",
    "# putting pricing plane documents into pricing plans subcollection in each app document\n",
    "# putting key benefits documents into key benefits subcollection in each app document\n",
    "\n",
    "i = 0\n",
    "\n",
    "# apps collection:\n",
    "for app_row in app_rows:\n",
    "    app_record = {}\n",
    "    app_record['app_id'] = app_row[0]\n",
    "    app_record['url'] = app_row[1]\n",
    "    app_record['title'] = app_row[2]\n",
    "    app_record['developer'] = app_row[3]\n",
    "    app_record['developer_link'] = app_row[4]\n",
    "    app_record['icon'] = app_row[5]\n",
    "    app_record['rating'] = app_row[6]\n",
    "    app_record['review_count'] = app_row[7]\n",
    "    \n",
    "    app_ref = db.collection('apps').document(app_row[0])\n",
    "    \n",
    "    batch.set(app_ref, app_record)\n",
    "    i += 1\n",
    "    if i > 400:\n",
    "        i = 0\n",
    "        batch.commit()\n",
    "    \n",
    "    # pricing_plans subcollection:\n",
    "    for pp_row in pp_rows:\n",
    "        if app_row[0] == pp_row[1]:\n",
    "            pp_record = {}\n",
    "            pp_record['plan_id'] = pp_row[0]\n",
    "            pp_record['title'] = pp_row[2]\n",
    "            pp_record['price'] = pp_row[3]\n",
    "            features = []\n",
    "            for ppf_row in ppf_rows:\n",
    "                if pp_row[1] == ppf_row[1] and pp_row[0] == ppf_row[0]:\n",
    "                    features.append(ppf_row[2])\n",
    "            pp_record['features'] = features\n",
    "            \n",
    "            pp_ref = app_ref.collection('pricing_plans').document(pp_row[0])\n",
    "            \n",
    "            batch.set(pp_ref, pp_record)\n",
    "            i += 1\n",
    "            if i > 400:\n",
    "                i = 0\n",
    "                batch.commit()\n",
    "                \n",
    "    # key_benefits subcollection:\n",
    "    for kb_row in kb_rows:\n",
    "        if kb_row[0] == app_row[0]:\n",
    "            kb_record = {}\n",
    "            kb_record['title'] = kb_row[1]\n",
    "            kb_record['description'] = kb_row[2]\n",
    "                        \n",
    "            kb_ref = app_ref.collection('key_benefits').document(kb_row[1].replace(\"/\",\"_\"))\n",
    "            \n",
    "            batch.set(kb_ref, kb_record)\n",
    "            i += 1\n",
    "            if i > 400:\n",
    "                i = 0\n",
    "                batch.commit()\n",
    "                 \n",
    "    batch.commit()"
   ]
  },
  {
   "cell_type": "markdown",
   "id": "a37822a8-f255-470b-a063-45f1d668b245",
   "metadata": {},
   "source": [
    "2. Get a count of the number of documents in each collection and subcollection."
   ]
  },
  {
   "cell_type": "code",
   "execution_count": 6,
   "id": "75bb6675-9655-44da-816c-d506322fb2e8",
   "metadata": {},
   "outputs": [
    {
     "name": "stdout",
     "output_type": "stream",
     "text": [
      "Documents in categories collection:\n",
      "12\n"
     ]
    }
   ],
   "source": [
    "print(\"Documents in categories collection:\")\n",
    "cats_ref = db.collection('categories')\n",
    "result = cats_ref.count().get()[0][0].value\n",
    "print(result)"
   ]
  },
  {
   "cell_type": "code",
   "execution_count": 7,
   "id": "92ae4098-868d-4505-b0e0-42edb0881675",
   "metadata": {},
   "outputs": [
    {
     "name": "stdout",
     "output_type": "stream",
     "text": [
      "Documents in apps subcollection in categories collection:\n",
      "26a72de0d02e0e4e5f615332d61a878e : 133\n",
      "30a930262efca129caafcd586bc7e6fe : 83\n",
      "30ea2315e910c5e5335de42d5e87dca5 : 602\n",
      "5eb4e29e50e3f178acc614236ed107f4 : 957\n",
      "64430ad2835be8ad60c59e7d44e4b0b1 : 310\n",
      "737ad50051083aa051d127a53b3ac0da : 190\n",
      "9fe78acd078fc030de72c896adc93a2d : 251\n",
      "bd125b49ce6b0425d29e33cb8b49a496 : 176\n",
      "c3f9db73c29bc33607778f9935c3c4dc : 1537\n",
      "c576a841fd4f333a6f074d68e76a1d37 : 249\n",
      "c769c2bd15500dd906102d9be97fdceb : 794\n",
      "e44cd5379a3166568741a07cc81ef6e5 : 101\n"
     ]
    }
   ],
   "source": [
    "print(\"Documents in apps subcollection in categories collection:\")\n",
    "for cat_ref in cats_ref.list_documents():\n",
    "    result = cat_ref.collection('apps').count().get()[0][0].value\n",
    "    print(cat_ref.id, \":\", result)"
   ]
  },
  {
   "cell_type": "code",
   "execution_count": 8,
   "id": "be098d27-06c8-4e16-8246-2092e8accbc8",
   "metadata": {},
   "outputs": [
    {
     "name": "stdout",
     "output_type": "stream",
     "text": [
      "Documents in apps collection:\n",
      "3547\n"
     ]
    }
   ],
   "source": [
    "print(\"Documents in apps collection:\")\n",
    "apps_ref = db.collection('apps')\n",
    "result = apps_ref.count().get()[0][0].value\n",
    "print(result)"
   ]
  },
  {
   "cell_type": "code",
   "execution_count": 9,
   "id": "f32a76d0-b2f4-4cf3-b05b-c602c97038f6",
   "metadata": {},
   "outputs": [
    {
     "name": "stdout",
     "output_type": "stream",
     "text": [
      "Documents in pricing plans and key benefits subcollections in apps collection:\n",
      "00289a9f-9f12-45b1-963b-67e78403f7c7:\n",
      "    pricing_plans: 1\n",
      "    key_benefits: 3\n",
      "00312cea-3595-4d65-a60d-6e8e5b7d6897:\n",
      "    pricing_plans: 2\n",
      "    key_benefits: 3\n",
      "003b3dbd-1295-48cb-a3e8-8f3a0e8fc6df:\n",
      "    pricing_plans: 3\n",
      "    key_benefits: 3\n",
      "004cc187-6def-4058-a7f3-78e6edfe2e3c:\n",
      "    pricing_plans: 1\n",
      "    key_benefits: 3\n",
      "005d6c7a-9eb9-4b35-bdd4-040d383e86cf:\n",
      "    pricing_plans: 1\n",
      "    key_benefits: 3\n",
      "0067a20e-e307-490e-acc5-8442d4bdca4b:\n",
      "    pricing_plans: 1\n",
      "    key_benefits: 3\n",
      "008ce864-6073-4b61-b133-265ea6afa893:\n",
      "    pricing_plans: 1\n",
      "    key_benefits: 3\n",
      "00951791-6206-4780-ba17-5e57520c277c:\n",
      "    pricing_plans: 1\n",
      "    key_benefits: 3\n",
      "00c5d020-0877-4534-88b8-f05fd4cf5fa6:\n",
      "    pricing_plans: 4\n",
      "    key_benefits: 3\n",
      "00d5c1eb-5b16-439b-8b84-c7abe921e6e4:\n",
      "    pricing_plans: 3\n",
      "    key_benefits: 3\n",
      "00dc6a76-76ba-42f3-92d8-1103331cd79c:\n",
      "    pricing_plans: 1\n",
      "    key_benefits: 3\n"
     ]
    }
   ],
   "source": [
    "print(\"Documents in pricing plans and key benefits subcollections in apps collection:\")\n",
    "i = 0\n",
    "for app_ref in apps_ref.list_documents():\n",
    "    PPresult = app_ref.collection('pricing_plans').count().get()[0][0].value\n",
    "    KBresult = app_ref.collection('key_benefits').count().get()[0][0].value\n",
    "    print(app_ref.id, \":\", sep=\"\")\n",
    "    print('    pricing_plans:', PPresult)\n",
    "    print('    key_benefits:', KBresult)\n",
    "    i += 1\n",
    "    # just so that this doesn't take up the entire page\n",
    "    if i > 10:\n",
    "        break"
   ]
  },
  {
   "cell_type": "markdown",
   "id": "06a24bf7-0aaf-490c-b1b8-113fb674db94",
   "metadata": {},
   "source": [
    "3. List the top 10 \"Productivity\" apps (whose category.title = \"Productivity\") sorted by their rating in descending order. Return the id, title, developer, rating and reviews_count for those apps. Limit the results to the first 10 records. Note: this query refers to access pattern #1."
   ]
  },
  {
   "cell_type": "code",
   "execution_count": 10,
   "id": "a5d3e3d9-51cc-43a3-9bbb-bb72d4a07202",
   "metadata": {},
   "outputs": [
    {
     "name": "stdout",
     "output_type": "stream",
     "text": [
      "app_id: fe5ae45c-379c-42bf-be7d-b5f6e15fc13c, title: Customer Tags, developer: Union Works Apps, rating: 5.0, review_count: 21, \n",
      "app_id: f99bb1e3-f326-4f10-8901-491652e9809b, title: Order Tagger, developer: Union Works Apps, rating: 5.0, review_count: 68, \n",
      "app_id: f864e3bd-da0e-41dc-be65-984325331475, title: SilkRoad ‑ Facebook Auto Ads, developer: SilkRoad, rating: 5.0, review_count: 2, \n",
      "app_id: f5344e64-9cda-4d97-b198-2aaeb5170518, title: Xporter Data Export Tool, developer: Modd Apps Inc., rating: 5.0, review_count: 223, \n",
      "app_id: ed77a32d-0fa3-458b-b639-e01ea7b78ec0, title: FraudBlock Fraud Prevention, developer: ShopFox, rating: 5.0, review_count: 6, \n",
      "app_id: e0e231d6-4988-4a8c-ad84-cf18d0f38738, title: Automation Fox, developer: Automation Fox, rating: 5.0, review_count: 1, \n",
      "app_id: d75fa395-3a4d-41c3-88d1-2f802c1e2411, title: AirPower, developer: BaseGenius, rating: 5.0, review_count: 1, \n",
      "app_id: d0be03ff-f74d-4fb5-8d2c-79541a1aea1b, title: Excelify, developer: Excelify.io, rating: 5.0, review_count: 178, \n",
      "app_id: c9a86f8c-817e-4bb5-bbdd-e0e669bd7816, title: UPC Code Manager, developer: Ventures & Adventures, rating: 5.0, review_count: 1, \n",
      "app_id: c7578030-19fd-42e1-a5a5-03c7861220aa, title: EzySlips ‑ Shipping Automation, developer: Onjection Labs, rating: 5.0, review_count: 219, \n"
     ]
    }
   ],
   "source": [
    "# figuring out the category ID of the Productivity category by querying the category collection and turning the result into a dictionary\n",
    "prod_cid = cats_ref.where('title', '==', 'Productivity').get()[0].to_dict()['cat_id']\n",
    "prapps_ref = cats_ref.document(prod_cid).collection('apps')\n",
    "attr = ['app_id', 'title', 'developer', 'rating', 'review_count']\n",
    "query = prapps_ref.select(attr).order_by('rating', direction=firestore.Query.DESCENDING).limit(10)\n",
    "results = query.stream()\n",
    "for result in results:\n",
    "    rd = result.to_dict()\n",
    "    for attribute in attr:\n",
    "        print(attribute, ': ', rd[attribute], ', ', sep = \"\", end = \"\")\n",
    "    print()    "
   ]
  },
  {
   "cell_type": "markdown",
   "id": "49e1e26c-f02c-4a7f-80ce-e9487a5959d9",
   "metadata": {},
   "source": [
    "4. List the top 10 apps with the highest number of reviews (based on apps.review_count). Return the id, title, developer, rating and reviews_count for those apps. Order the results by reviews_count in descending order. Note: this query refers to access pattern #2."
   ]
  },
  {
   "cell_type": "code",
   "execution_count": 11,
   "id": "f5da4fd4-f666-4586-8bea-bd4b02ca5516",
   "metadata": {},
   "outputs": [
    {
     "name": "stdout",
     "output_type": "stream",
     "text": [
      "app_id: d9f142ee-b141-4dc4-9353-173db61d2eb0, title: Privy ‑ Exit Pop Ups & Email, developer: Privy, rating: 4.7, review_count: 23078, \n",
      "app_id: 78ea0810-c008-4a4e-a82f-de0c790e3286, title: Free Shipping Bar, developer: Hextom, rating: 4.9, review_count: 8737, \n",
      "app_id: b88488b0-9912-44d3-b736-224c36f09d95, title: Sales Pop ‑ Popup Notification, developer: CartKit, rating: 4.8, review_count: 6905, \n",
      "app_id: e528a60e-94f8-4e92-80e2-5bc6013b8283, title: BEST Currency Converter, developer: Grizzly Apps, rating: 4.8, review_count: 5986, \n",
      "app_id: be2640c4-01b5-4d52-9f68-cae8c0734d0d, title: Recart FB Messenger Marketing, developer: Recart, rating: 4.8, review_count: 5596, \n",
      "app_id: 70bff9e0-4316-4cc6-84ce-92fcd1bc6925, title: EU Cookie Bar ‑ Cookie GDPR, developer: Booster Apps, rating: 4.7, review_count: 5259, \n",
      "app_id: 171816e2-27d4-4552-a65e-ab44a312fe04, title: Sales Pop Master ‑ Countdown, developer: Autoketing, rating: 4.8, review_count: 4931, \n",
      "app_id: 9025eff0-d714-4df1-930f-43f5582979ad, title: Ultimate Sales Boost, developer: Hextom, rating: 4.8, review_count: 4847, \n",
      "app_id: 404183ac-6d52-4960-85d2-8350f37c2f0b, title: Ads by Varinode, developer: Varinode, Inc., rating: 4.9, review_count: 4245, \n",
      "app_id: 0380c5ed-7b91-4d4b-9a4e-f6a1c50269dd, title: Quick Announcement Bar, developer: Hextom, rating: 4.9, review_count: 4237, \n"
     ]
    }
   ],
   "source": [
    "query = apps_ref.select(attr).order_by('review_count', direction=firestore.Query.DESCENDING).limit(10)\n",
    "results = query.stream()\n",
    "for result in results:\n",
    "    rd = result.to_dict()\n",
    "    for attribute in attr:\n",
    "        print(attribute, ': ', rd[attribute], ', ', sep = \"\", end = \"\")\n",
    "    print()    "
   ]
  },
  {
   "cell_type": "code",
   "execution_count": null,
   "id": "943dbf00-bc80-470d-8b22-69a993d123f5",
   "metadata": {},
   "outputs": [],
   "source": []
  }
 ],
 "metadata": {
  "environment": {
   "kernel": "python3",
   "name": "common-cpu.m103",
   "type": "gcloud",
   "uri": "gcr.io/deeplearning-platform-release/base-cpu:m103"
  },
  "kernelspec": {
   "display_name": "Python 3",
   "language": "python",
   "name": "python3"
  },
  "language_info": {
   "codemirror_mode": {
    "name": "ipython",
    "version": 3
   },
   "file_extension": ".py",
   "mimetype": "text/x-python",
   "name": "python",
   "nbconvert_exporter": "python",
   "pygments_lexer": "ipython3",
   "version": "3.7.12"
  }
 },
 "nbformat": 4,
 "nbformat_minor": 5
}
