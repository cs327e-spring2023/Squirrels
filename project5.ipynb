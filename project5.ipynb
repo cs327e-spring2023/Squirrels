{
 "cells": [
  {
   "cell_type": "code",
   "execution_count": 1,
   "id": "758b3027-bbb5-40d1-8cbb-28b6301a04ec",
   "metadata": {},
   "outputs": [],
   "source": [
    "#%env BASE_DIR=/home/jupyter/"
   ]
  },
  {
   "cell_type": "markdown",
   "id": "045c9dbd-0e12-4591-a1ab-c11d1d707e3a",
   "metadata": {},
   "source": [
    "Q1. select count(*) from products;"
   ]
  },
  {
   "cell_type": "code",
   "execution_count": 2,
   "id": "3dbbc910-7424-4fd5-b2f2-3acd77d10a5e",
   "metadata": {},
   "outputs": [
    {
     "name": "stdout",
     "output_type": "stream",
     "text": [
      "309371\n"
     ]
    }
   ],
   "source": [
    "!mongo open_food --quiet --eval \"db.products.count()\""
   ]
  },
  {
   "cell_type": "markdown",
   "id": "d658d3a9-b501-45ee-ab4d-1fe0d770293c",
   "metadata": {},
   "source": [
    "Q2. select _id, product_name from products where categories = 'Snacks, Sweet snacks, Confectioneries, Candies, Chews'; "
   ]
  },
  {
   "cell_type": "code",
   "execution_count": 3,
   "id": "dd6f9a04-c372-4c34-b573-5c208f50928f",
   "metadata": {},
   "outputs": [
    {
     "name": "stdout",
     "output_type": "stream",
     "text": [
      "env: projection={\"_id\":1, \"product_name\":1}\n"
     ]
    }
   ],
   "source": [
    "%env projection = {\"_id\":1, \"product_name\":1}"
   ]
  },
  {
   "cell_type": "code",
   "execution_count": 4,
   "id": "31cc634d-f759-445c-af3c-9e3e0aee1bf4",
   "metadata": {},
   "outputs": [
    {
     "name": "stdout",
     "output_type": "stream",
     "text": [
      "env: selection={\"categories\": \"Snacks, Sweet snacks, Confectioneries, Candies, Chews\"}\n"
     ]
    }
   ],
   "source": [
    "%env selection = {\"categories\": \"Snacks, Sweet snacks, Confectioneries, Candies, Chews\"}"
   ]
  },
  {
   "cell_type": "code",
   "execution_count": 5,
   "id": "99f19430-1631-4d5b-8bee-32f01cc3c13d",
   "metadata": {},
   "outputs": [
    {
     "name": "stdout",
     "output_type": "stream",
     "text": [
      "{ \"_id\" : \"0071720007105\", \"product_name\" : \"Tootsie Roll\" }\n"
     ]
    }
   ],
   "source": [
    "!mongo open_food --quiet --eval \"db.products.find(${selection}, ${projection}).pretty()\""
   ]
  },
  {
   "cell_type": "markdown",
   "id": "6cb691a9-8d54-4e7e-8786-8d327cfb028e",
   "metadata": {},
   "source": [
    "Q3. select _id, code, product_name from products where last_modified_t >= 1601856000; "
   ]
  },
  {
   "cell_type": "code",
   "execution_count": 6,
   "id": "2a29569e-47d7-4838-807b-4122e2cc1ae0",
   "metadata": {},
   "outputs": [
    {
     "name": "stdout",
     "output_type": "stream",
     "text": [
      "env: projection={\"_id\":1, \"code\":1, \"product_name\":1}\n"
     ]
    }
   ],
   "source": [
    "%env projection = {\"_id\":1, \"code\":1, \"product_name\":1}"
   ]
  },
  {
   "cell_type": "code",
   "execution_count": 7,
   "id": "02290561-1b56-4347-b470-34bd887cdfb8",
   "metadata": {},
   "outputs": [
    {
     "name": "stdout",
     "output_type": "stream",
     "text": [
      "env: selection={\"last_modified_t\": {$gte: 1601856000}}\n"
     ]
    }
   ],
   "source": [
    "%env selection = {\"last_modified_t\": {$gte: 1601856000}}"
   ]
  },
  {
   "cell_type": "code",
   "execution_count": 8,
   "id": "a1ea5431-1497-4cc9-bbf6-81d8d0bb53a6",
   "metadata": {},
   "outputs": [
    {
     "name": "stdout",
     "output_type": "stream",
     "text": [
      "{\n",
      "\t\"_id\" : \"0852909003299\",\n",
      "\t\"product_name\" : \"Almondmilk\",\n",
      "\t\"code\" : \"0852909003299\"\n",
      "}\n",
      "{\n",
      "\t\"_id\" : \"0840423102055\",\n",
      "\t\"code\" : \"0840423102055\",\n",
      "\t\"product_name\" : \"Garlic wine pasta with chicken meatballs with whole wheat rotini, white beans, and greens, cooked in avocado oil, and topped with parmesan and mozzarella, garlic wine pasta with chicken meatballs\"\n",
      "}\n"
     ]
    }
   ],
   "source": [
    "!mongo open_food --quiet --eval \"db.products.find(${selection}, ${projection}).pretty()\""
   ]
  },
  {
   "cell_type": "markdown",
   "id": "37b3075f-38b0-47c0-89b3-b785e3843376",
   "metadata": {},
   "source": [
    "Q4. select count(*) from products where packaging = 'Plastic';"
   ]
  },
  {
   "cell_type": "code",
   "execution_count": 9,
   "id": "8a11c292-7b1d-4446-a2d9-572d12921f5d",
   "metadata": {},
   "outputs": [
    {
     "name": "stdout",
     "output_type": "stream",
     "text": [
      "115\n"
     ]
    }
   ],
   "source": [
    "!mongo open_food --quiet --eval \"db.products.count({'packaging': 'Plastic'})\""
   ]
  },
  {
   "cell_type": "markdown",
   "id": "fe69c12a-21f5-45f9-a1bb-87b1e0385c8e",
   "metadata": {},
   "source": [
    "Q5. select _id, code, creator, product_name, brands from products where manufacturing_places = 'Austin, TX' and stores = 'Whole Foods'; "
   ]
  },
  {
   "cell_type": "code",
   "execution_count": 10,
   "id": "6e0061a5-b59c-465e-a5d4-09eb7e3a44e4",
   "metadata": {},
   "outputs": [
    {
     "name": "stdout",
     "output_type": "stream",
     "text": [
      "env: projection={\"_id\":1, \"code\":1, \"creator\":1, \"product_name\":1, \"brands\":1}\n"
     ]
    }
   ],
   "source": [
    "%env projection = {\"_id\":1, \"code\":1, \"creator\":1, \"product_name\":1, \"brands\":1}"
   ]
  },
  {
   "cell_type": "code",
   "execution_count": 11,
   "id": "cfa029f6-1ed5-4aa4-b956-a5c603581e40",
   "metadata": {},
   "outputs": [
    {
     "name": "stdout",
     "output_type": "stream",
     "text": [
      "env: selection={\"manufacturing_places\": \"Austin, TX\", \"stores\": \"Whole Foods\"}\n"
     ]
    }
   ],
   "source": [
    "%env selection = {\"manufacturing_places\": \"Austin, TX\", \"stores\": \"Whole Foods\"}"
   ]
  },
  {
   "cell_type": "code",
   "execution_count": 12,
   "id": "3f904157-68d6-458a-839a-931dc7bb8c61",
   "metadata": {},
   "outputs": [
    {
     "name": "stdout",
     "output_type": "stream",
     "text": [
      "{\n",
      "\t\"_id\" : \"0099482455859\",\n",
      "\t\"creator\" : \"usda-ndb-import\",\n",
      "\t\"brands\" : \"365 Everyday Value,Whole Foods Market  Inc.\",\n",
      "\t\"code\" : \"0099482455859\",\n",
      "\t\"product_name\" : \"Whole Wheat Bread\"\n",
      "}\n"
     ]
    }
   ],
   "source": [
    "!mongo open_food --quiet --eval \"db.products.find(${selection}, ${projection}).pretty()\""
   ]
  },
  {
   "cell_type": "markdown",
   "id": "f4ddd62e-229a-4359-b1cd-1b9c33de9b01",
   "metadata": {},
   "source": [
    "Q6. select _id, product_name, brands from products where brands in\n",
    "(\"m&m's\", \"mars\", \"Mars\", \"oreo\", \"starburst\") order by product_name\n",
    "limit 5; "
   ]
  },
  {
   "cell_type": "code",
   "execution_count": 13,
   "id": "86124129-9c5d-419e-91ab-427a6e0ae408",
   "metadata": {},
   "outputs": [
    {
     "name": "stdout",
     "output_type": "stream",
     "text": [
      "env: projection={\"_id\":1, \"product_name\":1, \"brands\":1}\n"
     ]
    }
   ],
   "source": [
    "%env projection = {\"_id\":1, \"product_name\":1, \"brands\":1}"
   ]
  },
  {
   "cell_type": "code",
   "execution_count": 14,
   "id": "a3996767-d057-49e3-8bd8-7de6edfd3875",
   "metadata": {},
   "outputs": [
    {
     "name": "stdout",
     "output_type": "stream",
     "text": [
      "env: selection={\"brands\": {$in: [\"m&m's\", \"mars\", \"Mars\", \"oreo\", \"starburst\"]}}\n"
     ]
    }
   ],
   "source": [
    "%env selection = {\"brands\": {$in: [\"m&m's\", \"mars\", \"Mars\", \"oreo\", \"starburst\"]}}"
   ]
  },
  {
   "cell_type": "code",
   "execution_count": 15,
   "id": "352acc1e-b95b-4987-bc76-64f50e27453f",
   "metadata": {},
   "outputs": [
    {
     "name": "stdout",
     "output_type": "stream",
     "text": [
      "{\n",
      "\t\"_id\" : \"0040000265252\",\n",
      "\t\"brands\" : \"Mars\",\n",
      "\t\"product_name\" : \"Almond & dark chocolate\"\n",
      "}\n",
      "{ \"_id\" : \"0040000422068\", \"brands\" : \"mars\", \"product_name\" : \"BAR\" }\n",
      "{\n",
      "\t\"_id\" : \"0047677386518\",\n",
      "\t\"brands\" : \"m&m's\",\n",
      "\t\"product_name\" : \"M&m's, light ice cream, chocolate\"\n",
      "}\n",
      "{\n",
      "\t\"_id\" : \"0044000029524\",\n",
      "\t\"product_name\" : \"Nabisco oreo cookies double stuf 1x4.1 oz\",\n",
      "\t\"brands\" : \"oreo\"\n",
      "}\n",
      "{\n",
      "\t\"_id\" : \"04005108\",\n",
      "\t\"product_name\" : \"Real fruit juice!\",\n",
      "\t\"brands\" : \"starburst\"\n",
      "}\n"
     ]
    }
   ],
   "source": [
    "!mongo open_food --quiet --eval \"db.products.find(${selection}, ${projection}).sort({'product_name':1}).limit(5).pretty()\""
   ]
  },
  {
   "cell_type": "markdown",
   "id": "8effa535-51af-4430-8017-a639ac0cbfc8",
   "metadata": {},
   "source": [
    "Q7. select _id, product_name, countries, ingredients.text, ingredients.rank, nutriments.carbohydrates_serving from products where nutriments.carbohydrates_serving between 18 and 25 order by product_name ASC limit 5;\n"
   ]
  },
  {
   "cell_type": "code",
   "execution_count": 16,
   "id": "5ac28ba4-a313-4da7-af8d-1176bedd6991",
   "metadata": {},
   "outputs": [
    {
     "name": "stdout",
     "output_type": "stream",
     "text": [
      "env: projection={\"_id\":1, \"product_name\":1, \"countries\":1, \"ingredients.text\":1, \"ingredients.rank\":1, \"nutriments.carbohydrates_serving\":1}\n"
     ]
    }
   ],
   "source": [
    "%env projection = {\"_id\":1, \"product_name\":1, \"countries\":1, \"ingredients.text\":1, \"ingredients.rank\":1, \"nutriments.carbohydrates_serving\":1}"
   ]
  },
  {
   "cell_type": "code",
   "execution_count": 17,
   "id": "754668a1-9494-40ee-9b69-c14ca6f3c66e",
   "metadata": {},
   "outputs": [
    {
     "name": "stdout",
     "output_type": "stream",
     "text": [
      "env: selection={\"nutriments.carbohydrates_serving\": {$gt: 18, $lt: 25}}\n"
     ]
    }
   ],
   "source": [
    "%env selection = {\"nutriments.carbohydrates_serving\": {$gt: 18, $lt: 25}}"
   ]
  },
  {
   "cell_type": "code",
   "execution_count": 18,
   "id": "9fc914a4-5854-40dd-acf5-f7a4656cc870",
   "metadata": {},
   "outputs": [
    {
     "name": "stdout",
     "output_type": "stream",
     "text": [
      "{\n",
      "\t\"_id\" : \"0011110885685\",\n",
      "\t\"nutriments\" : {\n",
      "\t\t\"carbohydrates_serving\" : 24\n",
      "\t},\n",
      "\t\"product_name\" : \"\",\n",
      "\t\"countries\" : \"United States\",\n",
      "\t\"ingredients\" : [\n",
      "\t\t{\n",
      "\t\t\t\"rank\" : 1,\n",
      "\t\t\t\"text\" : \"Sweet potatoes\"\n",
      "\t\t},\n",
      "\t\t{\n",
      "\t\t\t\"text\" : \"vegetable oil\",\n",
      "\t\t\t\"rank\" : 2\n",
      "\t\t},\n",
      "\t\t{\n",
      "\t\t\t\"rank\" : 3,\n",
      "\t\t\t\"text\" : \"modified corn starch\"\n",
      "\t\t},\n",
      "\t\t{\n",
      "\t\t\t\"rank\" : 4,\n",
      "\t\t\t\"text\" : \"modified potato starch\"\n",
      "\t\t},\n",
      "\t\t{\n",
      "\t\t\t\"rank\" : 5,\n",
      "\t\t\t\"text\" : \"contains 2% and less of\"\n",
      "\t\t},\n",
      "\t\t{\n",
      "\t\t\t\"text\" : \"dextrin\",\n",
      "\t\t\t\"rank\" : 6\n",
      "\t\t},\n",
      "\t\t{\n",
      "\t\t\t\"rank\" : 7,\n",
      "\t\t\t\"text\" : \"extractives of paprika and turmeric\"\n",
      "\t\t},\n",
      "\t\t{\n",
      "\t\t\t\"text\" : \"fiber\",\n",
      "\t\t\t\"rank\" : 8\n",
      "\t\t},\n",
      "\t\t{\n",
      "\t\t\t\"rank\" : 9,\n",
      "\t\t\t\"text\" : \"molasses\"\n",
      "\t\t},\n",
      "\t\t{\n",
      "\t\t\t\"text\" : \"rice flour\",\n",
      "\t\t\t\"rank\" : 10\n",
      "\t\t},\n",
      "\t\t{\n",
      "\t\t\t\"rank\" : 11,\n",
      "\t\t\t\"text\" : \"salt\"\n",
      "\t\t},\n",
      "\t\t{\n",
      "\t\t\t\"text\" : \"sodium acid\",\n",
      "\t\t\t\"rank\" : 12\n",
      "\t\t},\n",
      "\t\t{\n",
      "\t\t\t\"text\" : \"sugar\",\n",
      "\t\t\t\"rank\" : 13\n",
      "\t\t},\n",
      "\t\t{\n",
      "\t\t\t\"rank\" : 14,\n",
      "\t\t\t\"text\" : \"xanthan gum\"\n",
      "\t\t},\n",
      "\t\t{\n",
      "\t\t\t\"text\" : \"contains one and more of\"\n",
      "\t\t},\n",
      "\t\t{\n",
      "\t\t\t\"text\" : \"soybean\"\n",
      "\t\t},\n",
      "\t\t{\n",
      "\t\t\t\"text\" : \"cottonseed\"\n",
      "\t\t},\n",
      "\t\t{\n",
      "\t\t\t\"text\" : \"sunflower\"\n",
      "\t\t},\n",
      "\t\t{\n",
      "\t\t\t\"text\" : \"corn\"\n",
      "\t\t},\n",
      "\t\t{\n",
      "\t\t\t\"text\" : \"baking soda\"\n",
      "\t\t},\n",
      "\t\t{\n",
      "\t\t\t\"text\" : \"for color\"\n",
      "\t\t},\n",
      "\t\t{\n",
      "\t\t\t\"text\" : \"pea\"\n",
      "\t\t},\n",
      "\t\t{\n",
      "\t\t\t\"text\" : \"oat\"\n",
      "\t\t},\n",
      "\t\t{\n",
      "\t\t\t\"text\" : \"corn\"\n",
      "\t\t},\n",
      "\t\t{\n",
      "\t\t\t\"text\" : \"refiners syrup\"\n",
      "\t\t},\n",
      "\t\t{\n",
      "\t\t\t\"text\" : \"molasses\"\n",
      "\t\t},\n",
      "\t\t{\n",
      "\t\t\t\"text\" : \"pyrophosphate\"\n",
      "\t\t},\n",
      "\t\t{\n",
      "\t\t\t\"text\" : \"canola\"\n",
      "\t\t},\n",
      "\t\t{\n",
      "\t\t\t\"text\" : \"maintains natural color and leavening\"\n",
      "\t\t}\n",
      "\t]\n",
      "}\n",
      "{\n",
      "\t\"_id\" : \"0011225111181\",\n",
      "\t\"product_name\" : \"\",\n",
      "\t\"countries\" : \"United States\",\n",
      "\t\"nutriments\" : {\n",
      "\t\t\"carbohydrates_serving\" : 22\n",
      "\t},\n",
      "\t\"ingredients\" : [\n",
      "\t\t{\n",
      "\t\t\t\"rank\" : 1,\n",
      "\t\t\t\"text\" : \"Potatoes\"\n",
      "\t\t},\n",
      "\t\t{\n",
      "\t\t\t\"rank\" : 2,\n",
      "\t\t\t\"text\" : \"vegetable oil\"\n",
      "\t\t},\n",
      "\t\t{\n",
      "\t\t\t\"text\" : \"disodium dihydrogen pyrophosphate\",\n",
      "\t\t\t\"rank\" : 3\n",
      "\t\t},\n",
      "\t\t{\n",
      "\t\t\t\"rank\" : 4,\n",
      "\t\t\t\"text\" : \"dextrose\"\n",
      "\t\t},\n",
      "\t\t{\n",
      "\t\t\t\"text\" : \"may contain one and more of the following\"\n",
      "\t\t},\n",
      "\t\t{\n",
      "\t\t\t\"text\" : \"sunflower oil\"\n",
      "\t\t},\n",
      "\t\t{\n",
      "\t\t\t\"text\" : \"cottonseed oil\"\n",
      "\t\t},\n",
      "\t\t{\n",
      "\t\t\t\"text\" : \"palm oil\"\n",
      "\t\t},\n",
      "\t\t{\n",
      "\t\t\t\"text\" : \"corn oil\"\n",
      "\t\t},\n",
      "\t\t{\n",
      "\t\t\t\"text\" : \"soybean oil\"\n",
      "\t\t},\n",
      "\t\t{\n",
      "\t\t\t\"text\" : \"hydrogenated soybean and cottonseed oil\"\n",
      "\t\t},\n",
      "\t\t{\n",
      "\t\t\t\"text\" : \"to promote color retention\"\n",
      "\t\t},\n",
      "\t\t{\n",
      "\t\t\t\"text\" : \"canola oil\"\n",
      "\t\t}\n",
      "\t]\n",
      "}\n",
      "{\n",
      "\t\"_id\" : \"0011225111174\",\n",
      "\t\"product_name\" : \"\",\n",
      "\t\"countries\" : \"United States\",\n",
      "\t\"nutriments\" : {\n",
      "\t\t\"carbohydrates_serving\" : 22\n",
      "\t},\n",
      "\t\"ingredients\" : [\n",
      "\t\t{\n",
      "\t\t\t\"text\" : \"Potatoes\",\n",
      "\t\t\t\"rank\" : 1\n",
      "\t\t},\n",
      "\t\t{\n",
      "\t\t\t\"text\" : \"vegetable oil\",\n",
      "\t\t\t\"rank\" : 2\n",
      "\t\t},\n",
      "\t\t{\n",
      "\t\t\t\"text\" : \"disodium dihydrogen pyrophosphate\",\n",
      "\t\t\t\"rank\" : 3\n",
      "\t\t},\n",
      "\t\t{\n",
      "\t\t\t\"rank\" : 4,\n",
      "\t\t\t\"text\" : \"dextrose\"\n",
      "\t\t},\n",
      "\t\t{\n",
      "\t\t\t\"text\" : \"may contain one and more of the following\"\n",
      "\t\t},\n",
      "\t\t{\n",
      "\t\t\t\"text\" : \"sunflower oil\"\n",
      "\t\t},\n",
      "\t\t{\n",
      "\t\t\t\"text\" : \"cottonseed oil\"\n",
      "\t\t},\n",
      "\t\t{\n",
      "\t\t\t\"text\" : \"palm oil\"\n",
      "\t\t},\n",
      "\t\t{\n",
      "\t\t\t\"text\" : \"corn oil\"\n",
      "\t\t},\n",
      "\t\t{\n",
      "\t\t\t\"text\" : \"soybean oil\"\n",
      "\t\t},\n",
      "\t\t{\n",
      "\t\t\t\"text\" : \"hydrogenated soybean and cottonseed oil\"\n",
      "\t\t},\n",
      "\t\t{\n",
      "\t\t\t\"text\" : \"to promote color retention\"\n",
      "\t\t},\n",
      "\t\t{\n",
      "\t\t\t\"text\" : \"canola oil\"\n",
      "\t\t}\n",
      "\t]\n",
      "}\n",
      "{\n",
      "\t\"_id\" : \"0011110810793\",\n",
      "\t\"ingredients\" : [\n",
      "\t\t{\n",
      "\t\t\t\"rank\" : 1,\n",
      "\t\t\t\"text\" : \"dough\"\n",
      "\t\t},\n",
      "\t\t{\n",
      "\t\t\t\"text\" : \"niacin\",\n",
      "\t\t\t\"rank\" : 2\n",
      "\t\t},\n",
      "\t\t{\n",
      "\t\t\t\"text\" : \"reduced iron\",\n",
      "\t\t\t\"rank\" : 3\n",
      "\t\t},\n",
      "\t\t{\n",
      "\t\t\t\"rank\" : 4,\n",
      "\t\t\t\"text\" : \"thiamine mononitrate\"\n",
      "\t\t},\n",
      "\t\t{\n",
      "\t\t\t\"text\" : \"riboflavin\",\n",
      "\t\t\t\"rank\" : 5\n",
      "\t\t},\n",
      "\t\t{\n",
      "\t\t\t\"rank\" : 6,\n",
      "\t\t\t\"text\" : \"enzyme\"\n",
      "\t\t},\n",
      "\t\t{\n",
      "\t\t\t\"rank\" : 7,\n",
      "\t\t\t\"text\" : \"folic acid\"\n",
      "\t\t},\n",
      "\t\t{\n",
      "\t\t\t\"rank\" : 8,\n",
      "\t\t\t\"text\" : \"water\"\n",
      "\t\t},\n",
      "\t\t{\n",
      "\t\t\t\"text\" : \"dextrose\",\n",
      "\t\t\t\"rank\" : 9\n",
      "\t\t},\n",
      "\t\t{\n",
      "\t\t\t\"text\" : \"contains less than 2% of\",\n",
      "\t\t\t\"rank\" : 10\n",
      "\t\t},\n",
      "\t\t{\n",
      "\t\t\t\"rank\" : 11,\n",
      "\t\t\t\"text\" : \"interesterified soybean oil\"\n",
      "\t\t},\n",
      "\t\t{\n",
      "\t\t\t\"text\" : \"yeast\",\n",
      "\t\t\t\"rank\" : 12\n",
      "\t\t},\n",
      "\t\t{\n",
      "\t\t\t\"text\" : \"salt\",\n",
      "\t\t\t\"rank\" : 13\n",
      "\t\t},\n",
      "\t\t{\n",
      "\t\t\t\"text\" : \"wheat flour\",\n",
      "\t\t\t\"rank\" : 14\n",
      "\t\t},\n",
      "\t\t{\n",
      "\t\t\t\"text\" : \"malted at 35 barley with sulfites\",\n",
      "\t\t\t\"rank\" : 15\n",
      "\t\t},\n",
      "\t\t{\n",
      "\t\t\t\"text\" : \"ascorbic acid\",\n",
      "\t\t\t\"rank\" : 16\n",
      "\t\t},\n",
      "\t\t{\n",
      "\t\t\t\"rank\" : 17,\n",
      "\t\t\t\"text\" : \"enzymes\"\n",
      "\t\t},\n",
      "\t\t{\n",
      "\t\t\t\"text\" : \"lalue* sorbitan monostearate\",\n",
      "\t\t\t\"rank\" : 18\n",
      "\t\t},\n",
      "\t\t{\n",
      "\t\t\t\"text\" : \"soybean oil\",\n",
      "\t\t\t\"rank\" : 19\n",
      "\t\t},\n",
      "\t\t{\n",
      "\t\t\t\"rank\" : 20,\n",
      "\t\t\t\"text\" : \"6 topping\"\n",
      "\t\t},\n",
      "\t\t{\n",
      "\t\t\t\"rank\" : 21,\n",
      "\t\t\t\"text\" : \"7 yo contains less than 2% of\"\n",
      "\t\t},\n",
      "\t\t{\n",
      "\t\t\t\"rank\" : 22,\n",
      "\t\t\t\"text\" : \"parmesan cheese\"\n",
      "\t\t},\n",
      "\t\t{\n",
      "\t\t\t\"text\" : \"garlic\",\n",
      "\t\t\t\"rank\" : 23\n",
      "\t\t},\n",
      "\t\t{\n",
      "\t\t\t\"text\" : \"8 seasoning\",\n",
      "\t\t\t\"rank\" : 24\n",
      "\t\t},\n",
      "\t\t{\n",
      "\t\t\t\"text\" : \"salt\",\n",
      "\t\t\t\"rank\" : 25\n",
      "\t\t},\n",
      "\t\t{\n",
      "\t\t\t\"rank\" : 26,\n",
      "\t\t\t\"text\" : \"butter\"\n",
      "\t\t},\n",
      "\t\t{\n",
      "\t\t\t\"text\" : \"dehydrated onion\",\n",
      "\t\t\t\"rank\" : 27\n",
      "\t\t},\n",
      "\t\t{\n",
      "\t\t\t\"rank\" : 28,\n",
      "\t\t\t\"text\" : \"natural flavor\"\n",
      "\t\t},\n",
      "\t\t{\n",
      "\t\t\t\"text\" : \"soybean oil\",\n",
      "\t\t\t\"rank\" : 29\n",
      "\t\t},\n",
      "\t\t{\n",
      "\t\t\t\"text\" : \"annatto\",\n",
      "\t\t\t\"rank\" : 30\n",
      "\t\t},\n",
      "\t\t{\n",
      "\t\t\t\"text\" : \"enriched flour ls\"\n",
      "\t\t},\n",
      "\t\t{\n",
      "\t\t\t\"text\" : \"wheat flour\"\n",
      "\t\t},\n",
      "\t\t{\n",
      "\t\t\t\"text\" : \"wheat gluten\"\n",
      "\t\t},\n",
      "\t\t{\n",
      "\t\t\t\"text\" : \"dough conditioner\"\n",
      "\t\t},\n",
      "\t\t{\n",
      "\t\t\t\"text\" : \"interesterified soybean oil\"\n",
      "\t\t},\n",
      "\t\t{\n",
      "\t\t\t\"text\" : \"water\"\n",
      "\t\t},\n",
      "\t\t{\n",
      "\t\t\t\"text\" : \"pasteurized milk\"\n",
      "\t\t},\n",
      "\t\t{\n",
      "\t\t\t\"text\" : \"salt\"\n",
      "\t\t},\n",
      "\t\t{\n",
      "\t\t\t\"text\" : \"cheese cultures\"\n",
      "\t\t},\n",
      "\t\t{\n",
      "\t\t\t\"text\" : \"enzymes\"\n",
      "\t\t},\n",
      "\t\t{\n",
      "\t\t\t\"text\" : \"0 powdered cellulose\"\n",
      "\t\t},\n",
      "\t\t{\n",
      "\t\t\t\"text\" : \"sorbic acid\"\n",
      "\t\t},\n",
      "\t\t{\n",
      "\t\t\t\"text\" : \"garlic\"\n",
      "\t\t},\n",
      "\t\t{\n",
      "\t\t\t\"text\" : \"black 8 pepper\"\n",
      "\t\t},\n",
      "\t\t{\n",
      "\t\t\t\"text\" : \"salt\"\n",
      "\t\t},\n",
      "\t\t{\n",
      "\t\t\t\"text\" : \"brown sugar\"\n",
      "\t\t},\n",
      "\t\t{\n",
      "\t\t\t\"text\" : \"dehydrated onion\"\n",
      "\t\t},\n",
      "\t\t{\n",
      "\t\t\t\"text\" : \"natural flavor\"\n",
      "\t\t},\n",
      "\t\t{\n",
      "\t\t\t\"text\" : \"3 4 parsley\"\n",
      "\t\t},\n",
      "\t\t{\n",
      "\t\t\t\"text\" : \"silicon dioxide\"\n",
      "\t\t},\n",
      "\t\t{\n",
      "\t\t\t\"text\" : \"cream\"\n",
      "\t\t},\n",
      "\t\t{\n",
      "\t\t\t\"text\" : \"salt\"\n",
      "\t\t},\n",
      "\t\t{\n",
      "\t\t\t\"text\" : \"for color\"\n",
      "\t\t},\n",
      "\t\t{\n",
      "\t\t\t\"text\" : \"preservative\"\n",
      "\t\t}\n",
      "\t],\n",
      "\t\"product_name\" : \"\",\n",
      "\t\"countries\" : \"United States\",\n",
      "\t\"nutriments\" : {\n",
      "\t\t\"carbohydrates_serving\" : 24\n",
      "\t}\n",
      "}\n",
      "{\n",
      "\t\"_id\" : \"0011225041266\",\n",
      "\t\"ingredients\" : [\n",
      "\t\t{\n",
      "\t\t\t\"rank\" : 1,\n",
      "\t\t\t\"text\" : \"Enriched wheat flour\"\n",
      "\t\t},\n",
      "\t\t{\n",
      "\t\t\t\"rank\" : 2,\n",
      "\t\t\t\"text\" : \"water\"\n",
      "\t\t},\n",
      "\t\t{\n",
      "\t\t\t\"rank\" : 3,\n",
      "\t\t\t\"text\" : \"non fat milk\"\n",
      "\t\t},\n",
      "\t\t{\n",
      "\t\t\t\"text\" : \"soybean oil\",\n",
      "\t\t\t\"rank\" : 4\n",
      "\t\t},\n",
      "\t\t{\n",
      "\t\t\t\"rank\" : 5,\n",
      "\t\t\t\"text\" : \"whey solids\"\n",
      "\t\t},\n",
      "\t\t{\n",
      "\t\t\t\"rank\" : 6,\n",
      "\t\t\t\"text\" : \"sugar\"\n",
      "\t\t},\n",
      "\t\t{\n",
      "\t\t\t\"rank\" : 7,\n",
      "\t\t\t\"text\" : \"leavening\"\n",
      "\t\t},\n",
      "\t\t{\n",
      "\t\t\t\"rank\" : 8,\n",
      "\t\t\t\"text\" : \"sodium bicarbonate\"\n",
      "\t\t},\n",
      "\t\t{\n",
      "\t\t\t\"text\" : \"monocalcium phosphate\",\n",
      "\t\t\t\"rank\" : 9\n",
      "\t\t},\n",
      "\t\t{\n",
      "\t\t\t\"rank\" : 10,\n",
      "\t\t\t\"text\" : \"whole eggs\"\n",
      "\t\t},\n",
      "\t\t{\n",
      "\t\t\t\"text\" : \"soy lecithin\",\n",
      "\t\t\t\"rank\" : 11\n",
      "\t\t},\n",
      "\t\t{\n",
      "\t\t\t\"text\" : \"salt\",\n",
      "\t\t\t\"rank\" : 12\n",
      "\t\t},\n",
      "\t\t{\n",
      "\t\t\t\"text\" : \"calcium phosphate\",\n",
      "\t\t\t\"rank\" : 13\n",
      "\t\t},\n",
      "\t\t{\n",
      "\t\t\t\"text\" : \"calcium carbonate\",\n",
      "\t\t\t\"rank\" : 14\n",
      "\t\t},\n",
      "\t\t{\n",
      "\t\t\t\"rank\" : 15,\n",
      "\t\t\t\"text\" : \"vitamin a palmitate\"\n",
      "\t\t},\n",
      "\t\t{\n",
      "\t\t\t\"text\" : \"niacin\",\n",
      "\t\t\t\"rank\" : 16\n",
      "\t\t},\n",
      "\t\t{\n",
      "\t\t\t\"rank\" : 17,\n",
      "\t\t\t\"text\" : \"reduced iron\"\n",
      "\t\t},\n",
      "\t\t{\n",
      "\t\t\t\"text\" : \"pyrodoxine hydrochloride\",\n",
      "\t\t\t\"rank\" : 18\n",
      "\t\t},\n",
      "\t\t{\n",
      "\t\t\t\"text\" : \"riboflavin\",\n",
      "\t\t\t\"rank\" : 19\n",
      "\t\t},\n",
      "\t\t{\n",
      "\t\t\t\"rank\" : 20,\n",
      "\t\t\t\"text\" : \"thiamin mononitrate\"\n",
      "\t\t},\n",
      "\t\t{\n",
      "\t\t\t\"text\" : \"and cyanocobalamin\",\n",
      "\t\t\t\"rank\" : 21\n",
      "\t\t},\n",
      "\t\t{\n",
      "\t\t\t\"text\" : \"wheat flour\"\n",
      "\t\t},\n",
      "\t\t{\n",
      "\t\t\t\"text\" : \"malted barley flour\"\n",
      "\t\t},\n",
      "\t\t{\n",
      "\t\t\t\"text\" : \"niacin\"\n",
      "\t\t},\n",
      "\t\t{\n",
      "\t\t\t\"text\" : \"iron\"\n",
      "\t\t},\n",
      "\t\t{\n",
      "\t\t\t\"text\" : \"thiamin mononitrate\"\n",
      "\t\t},\n",
      "\t\t{\n",
      "\t\t\t\"text\" : \"riboflavin\"\n",
      "\t\t},\n",
      "\t\t{\n",
      "\t\t\t\"text\" : \"folic acid\"\n",
      "\t\t},\n",
      "\t\t{\n",
      "\t\t\t\"text\" : \"sodium acid pyrophosphate\"\n",
      "\t\t}\n",
      "\t],\n",
      "\t\"product_name\" : \"\",\n",
      "\t\"countries\" : \"United States\",\n",
      "\t\"nutriments\" : {\n",
      "\t\t\"carbohydrates_serving\" : 24\n",
      "\t}\n",
      "}\n"
     ]
    }
   ],
   "source": [
    "!mongo open_food --quiet --eval \"db.products.find(${selection}, ${projection}).sort({'product_name':1}).limit(5).pretty()\""
   ]
  },
  {
   "cell_type": "markdown",
   "id": "49b58a5b-b067-4c20-aeed-24c2ff0a4f52",
   "metadata": {},
   "source": [
    "5. Insert a new document into the products collection. The document must have a minimum of 5 attributes with non-NULL values. Read back the document you just\n",
    "created. "
   ]
  },
  {
   "cell_type": "code",
   "execution_count": 20,
   "id": "a017ead6-74dd-48a6-8f8a-542c3608fdae",
   "metadata": {},
   "outputs": [
    {
     "name": "stdout",
     "output_type": "stream",
     "text": [
      "{ \"acknowledged\" : true, \"insertedId\" : 3.141592 }\n"
     ]
    }
   ],
   "source": [
    "!mongo open_food --quiet --eval \"db.products.insertOne({_id: 3.141592, product_name: 'pie', countries: 'Germany', brand: 'viking', rating: 10})\""
   ]
  },
  {
   "cell_type": "code",
   "execution_count": 21,
   "id": "bd888095-9509-44f9-aa75-c506294893ba",
   "metadata": {},
   "outputs": [
    {
     "name": "stdout",
     "output_type": "stream",
     "text": [
      "{ \"_id\" : 3.141592, \"product_name\" : \"pie\", \"countries\" : \"Germany\", \"brand\" : \"viking\", \"rating\" : 10 }\n"
     ]
    }
   ],
   "source": [
    "!mongo open_food --quiet --eval \"db.products.find({_id: 3.141592})\""
   ]
  },
  {
   "cell_type": "markdown",
   "id": "efcd45b9-a619-44b9-9859-45f5ec5228e4",
   "metadata": {},
   "source": [
    "6. Update the document you created in the previous step and then read it back."
   ]
  },
  {
   "cell_type": "code",
   "execution_count": 22,
   "id": "e7aee3f0-27a8-4a66-92fc-26e58dbc5060",
   "metadata": {},
   "outputs": [
    {
     "name": "stdout",
     "output_type": "stream",
     "text": [
      "env: doc={rating: 11}\n"
     ]
    }
   ],
   "source": [
    "%env doc = {rating: 11}"
   ]
  },
  {
   "cell_type": "code",
   "execution_count": 23,
   "id": "98d97b36-5791-4664-bbec-207e15e8bf9f",
   "metadata": {},
   "outputs": [
    {
     "name": "stdout",
     "output_type": "stream",
     "text": [
      "{ \"acknowledged\" : true, \"matchedCount\" : 1, \"modifiedCount\" : 1 }\n"
     ]
    }
   ],
   "source": [
    "!mongo open_food --quiet --eval 'db.products.updateOne({_id: 3.141592 },{ $set:{rating: 11}})'"
   ]
  },
  {
   "cell_type": "code",
   "execution_count": 24,
   "id": "3aaf7820-c44f-4594-a3d1-264b4156b333",
   "metadata": {},
   "outputs": [
    {
     "name": "stdout",
     "output_type": "stream",
     "text": [
      "{ \"_id\" : 3.141592, \"product_name\" : \"pie\", \"countries\" : \"Germany\", \"brand\" : \"viking\", \"rating\" : 11 }\n"
     ]
    }
   ],
   "source": [
    "!mongo open_food --quiet --eval \"db.products.find({'_id': 3.141592})\""
   ]
  },
  {
   "cell_type": "markdown",
   "id": "e671ed97-7ee6-41ba-8460-a094ef6024ba",
   "metadata": {},
   "source": [
    "7. Delete the document you updated in the previous step and then query the collection to verify that it’s been deleted. "
   ]
  },
  {
   "cell_type": "code",
   "execution_count": 25,
   "id": "f11ce273-f321-4e39-aef1-bc0677784e2f",
   "metadata": {},
   "outputs": [
    {
     "name": "stdout",
     "output_type": "stream",
     "text": [
      "{ \"acknowledged\" : true, \"deletedCount\" : 1 }\n"
     ]
    }
   ],
   "source": [
    "!mongo open_food --quiet --eval \"db.products.deleteOne({'_id': 3.141592})\""
   ]
  },
  {
   "cell_type": "code",
   "execution_count": 28,
   "id": "500d68c0-3636-4f09-93b3-ec8735bf3844",
   "metadata": {},
   "outputs": [
    {
     "name": "stdout",
     "output_type": "stream",
     "text": [
      "null\n"
     ]
    }
   ],
   "source": [
    "!mongo open_food --quiet --eval \"db.products.findOne({'_id': 3.141592})\""
   ]
  }
 ],
 "metadata": {
  "environment": {
   "kernel": "python3",
   "name": "common-cpu.m103",
   "type": "gcloud",
   "uri": "gcr.io/deeplearning-platform-release/base-cpu:m103"
  },
  "kernelspec": {
   "display_name": "Python 3",
   "language": "python",
   "name": "python3"
  },
  "language_info": {
   "codemirror_mode": {
    "name": "ipython",
    "version": 3
   },
   "file_extension": ".py",
   "mimetype": "text/x-python",
   "name": "python",
   "nbconvert_exporter": "python",
   "pygments_lexer": "ipython3",
   "version": "3.7.12"
  }
 },
 "nbformat": 4,
 "nbformat_minor": 5
}
